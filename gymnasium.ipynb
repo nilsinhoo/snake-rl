{
 "cells": [
  {
   "cell_type": "markdown",
   "source": [
    "Das Jupyter Notebook muss mit Python >= 3.10 ausgeführt werden (getestet in 3.12)"
   ],
   "metadata": {
    "collapsed": false
   },
   "id": "7b04dca86747a3d0"
  },
  {
   "cell_type": "code",
   "execution_count": 1,
   "id": "initial_id",
   "metadata": {
    "collapsed": true,
    "ExecuteTime": {
     "end_time": "2025-01-26T13:29:27.137948600Z",
     "start_time": "2025-01-26T13:29:08.482695300Z"
    }
   },
   "outputs": [
    {
     "name": "stdout",
     "output_type": "stream",
     "text": [
      "Requirement already satisfied: gymnasium in c:\\users\\kai\\appdata\\local\\programs\\python\\python312\\lib\\site-packages (1.0.0)\n",
      "Requirement already satisfied: numpy>=1.21.0 in c:\\users\\kai\\appdata\\local\\programs\\python\\python312\\lib\\site-packages (from gymnasium) (1.26.4)\n",
      "Requirement already satisfied: cloudpickle>=1.2.0 in c:\\users\\kai\\appdata\\local\\programs\\python\\python312\\lib\\site-packages (from gymnasium) (3.1.1)\n",
      "Requirement already satisfied: typing-extensions>=4.3.0 in c:\\users\\kai\\appdata\\local\\programs\\python\\python312\\lib\\site-packages (from gymnasium) (4.12.2)\n",
      "Requirement already satisfied: farama-notifications>=0.0.1 in c:\\users\\kai\\appdata\\local\\programs\\python\\python312\\lib\\site-packages (from gymnasium) (0.0.4)\n"
     ]
    },
    {
     "name": "stderr",
     "output_type": "stream",
     "text": [
      "\n",
      "[notice] A new release of pip is available: 24.0 -> 24.3.1\n",
      "[notice] To update, run: C:\\Users\\Kai\\AppData\\Local\\Programs\\Python\\Python312\\python.exe -m pip install --upgrade pip\n"
     ]
    },
    {
     "name": "stdout",
     "output_type": "stream",
     "text": [
      "Requirement already satisfied: numpy in c:\\users\\kai\\appdata\\local\\programs\\python\\python312\\lib\\site-packages (1.26.4)\n"
     ]
    },
    {
     "name": "stderr",
     "output_type": "stream",
     "text": [
      "\n",
      "[notice] A new release of pip is available: 24.0 -> 24.3.1\n",
      "[notice] To update, run: C:\\Users\\Kai\\AppData\\Local\\Programs\\Python\\Python312\\python.exe -m pip install --upgrade pip\n"
     ]
    },
    {
     "name": "stdout",
     "output_type": "stream",
     "text": [
      "Requirement already satisfied: pygame in c:\\users\\kai\\appdata\\local\\programs\\python\\python312\\lib\\site-packages (2.6.1)\n"
     ]
    },
    {
     "name": "stderr",
     "output_type": "stream",
     "text": [
      "\n",
      "[notice] A new release of pip is available: 24.0 -> 24.3.1\n",
      "[notice] To update, run: C:\\Users\\Kai\\AppData\\Local\\Programs\\Python\\Python312\\python.exe -m pip install --upgrade pip\n"
     ]
    }
   ],
   "source": [
    "!pip install gymnasium\n",
    "!pip install numpy\n",
    "!pip install pygame # todo braucht man pygame wirklich?"
   ]
  },
  {
   "cell_type": "code",
   "execution_count": 2,
   "outputs": [
    {
     "name": "stdout",
     "output_type": "stream",
     "text": [
      "Requirement already satisfied: torch in c:\\users\\kai\\appdata\\local\\programs\\python\\python312\\lib\\site-packages (2.5.1)\n",
      "Requirement already satisfied: filelock in c:\\users\\kai\\appdata\\local\\programs\\python\\python312\\lib\\site-packages (from torch) (3.17.0)\n",
      "Requirement already satisfied: typing-extensions>=4.8.0 in c:\\users\\kai\\appdata\\local\\programs\\python\\python312\\lib\\site-packages (from torch) (4.12.2)\n",
      "Requirement already satisfied: networkx in c:\\users\\kai\\appdata\\local\\programs\\python\\python312\\lib\\site-packages (from torch) (3.3)\n",
      "Requirement already satisfied: jinja2 in c:\\users\\kai\\appdata\\local\\programs\\python\\python312\\lib\\site-packages (from torch) (3.1.4)\n",
      "Requirement already satisfied: fsspec in c:\\users\\kai\\appdata\\local\\programs\\python\\python312\\lib\\site-packages (from torch) (2024.12.0)\n",
      "Requirement already satisfied: setuptools in c:\\users\\kai\\appdata\\local\\programs\\python\\python312\\lib\\site-packages (from torch) (70.1.0)\n",
      "Requirement already satisfied: sympy==1.13.1 in c:\\users\\kai\\appdata\\local\\programs\\python\\python312\\lib\\site-packages (from torch) (1.13.1)\n",
      "Requirement already satisfied: mpmath<1.4,>=1.1.0 in c:\\users\\kai\\appdata\\local\\programs\\python\\python312\\lib\\site-packages (from sympy==1.13.1->torch) (1.3.0)\n",
      "Requirement already satisfied: MarkupSafe>=2.0 in c:\\users\\kai\\appdata\\local\\programs\\python\\python312\\lib\\site-packages (from jinja2->torch) (2.1.5)\n"
     ]
    },
    {
     "name": "stderr",
     "output_type": "stream",
     "text": [
      "\n",
      "[notice] A new release of pip is available: 24.0 -> 24.3.1\n",
      "[notice] To update, run: C:\\Users\\Kai\\AppData\\Local\\Programs\\Python\\Python312\\python.exe -m pip install --upgrade pip\n"
     ]
    }
   ],
   "source": [
    "!pip install torch"
   ],
   "metadata": {
    "collapsed": false,
    "ExecuteTime": {
     "end_time": "2025-01-29T10:02:41.643066200Z",
     "start_time": "2025-01-29T10:02:38.304568800Z"
    }
   },
   "id": "35948cf3405539a5"
  },
  {
   "cell_type": "code",
   "execution_count": 7,
   "outputs": [
    {
     "name": "stdout",
     "output_type": "stream",
     "text": [
      "2.5.1+cpu\n"
     ]
    }
   ],
   "source": [
    "import torch\n",
    "\n",
    "print(torch.__version__)"
   ],
   "metadata": {
    "collapsed": false,
    "ExecuteTime": {
     "end_time": "2025-01-29T10:02:59.123349900Z",
     "start_time": "2025-01-29T10:02:59.099817100Z"
    }
   },
   "id": "3761be06eb8e8d6c"
  },
  {
   "cell_type": "code",
   "execution_count": 2,
   "outputs": [
    {
     "name": "stderr",
     "output_type": "stream",
     "text": [
      "Cloning into 'Gymnasium_Snake_Game'...\n"
     ]
    }
   ],
   "source": [
    "!git clone https://github.com/lychanl/Gymnasium_Snake_Game"
   ],
   "metadata": {
    "collapsed": false,
    "ExecuteTime": {
     "end_time": "2025-01-26T13:30:13.356123600Z",
     "start_time": "2025-01-26T13:30:03.005838800Z"
    }
   },
   "id": "ff07923267a93c4d"
  },
  {
   "cell_type": "code",
   "execution_count": 3,
   "outputs": [],
   "source": [
    "import sys\n",
    "\n",
    "sys.path.append('./Gymnasium_Snake_Game') # python erkennt das neu angelegte Verzeichnis manchmal nicht, deswegen hier explixit laden"
   ],
   "metadata": {
    "collapsed": false,
    "ExecuteTime": {
     "end_time": "2025-01-26T10:57:51.697815800Z",
     "start_time": "2025-01-26T10:57:51.673181900Z"
    }
   },
   "id": "40de4026e7aee33a"
  },
  {
   "cell_type": "markdown",
   "source": [
    "Der Code ist von https://pytorch.org/tutorials/intermediate/reinforcement_q_learning.html"
   ],
   "metadata": {
    "collapsed": false
   },
   "id": "506602dea71ed219"
  },
  {
   "cell_type": "code",
   "execution_count": 9,
   "outputs": [],
   "source": [
    "import random\n",
    "from collections import namedtuple, deque\n",
    "\n",
    "Transition = namedtuple('Transition', ('state', 'action', 'next_state', 'reward'))\n",
    "\n",
    "class ReplayMemory(object):\n",
    "\n",
    "    def __init__(self, capacity):\n",
    "        self.memory = deque([], maxlen=capacity)\n",
    "\n",
    "    def push(self, *args):\n",
    "        \"\"\"Save a transition\"\"\"\n",
    "        self.memory.append(Transition(*args))\n",
    "\n",
    "    def sample(self, batch_size):\n",
    "        return random.sample(self.memory, batch_size)\n",
    "\n",
    "    def __len__(self):\n",
    "        return len(self.memory)"
   ],
   "metadata": {
    "collapsed": false,
    "ExecuteTime": {
     "end_time": "2025-01-29T10:03:15.541832100Z",
     "start_time": "2025-01-29T10:03:15.515130400Z"
    }
   },
   "id": "29a38c55ae2923a"
  },
  {
   "cell_type": "code",
   "execution_count": 10,
   "outputs": [],
   "source": [
    "import torch.nn as nn\n",
    "import torch.nn.functional as F\n",
    "\n",
    "class DQN(nn.Module):\n",
    "\n",
    "    def __init__(self, n_observations, n_actions):\n",
    "        super(DQN, self).__init__()\n",
    "        print(f\"n_observations: {n_observations}\")  # Debugging\n",
    "        self.layer1 = nn.Linear(n_observations, 128)\n",
    "        self.layer2 = nn.Linear(128, 128)\n",
    "        self.layer3 = nn.Linear(128, n_actions)\n",
    "\n",
    "    # Called with either one element to determine next action, or a batch\n",
    "    # during optimization. Returns tensor([[left0exp,right0exp]...]).\n",
    "    def forward(self, x):\n",
    "        x = x.view(x.size(0), -1)  # Input flatten (batch size, höhe,breite,rgb)\n",
    "        x = F.relu(self.layer1(x))\n",
    "        x = F.relu(self.layer2(x))\n",
    "        return self.layer3(x)"
   ],
   "metadata": {
    "collapsed": false,
    "ExecuteTime": {
     "end_time": "2025-01-29T10:03:16.551629800Z",
     "start_time": "2025-01-29T10:03:16.519565600Z"
    }
   },
   "id": "36c9583e2327594d"
  },
  {
   "cell_type": "code",
   "execution_count": 11,
   "outputs": [
    {
     "name": "stdout",
     "output_type": "stream",
     "text": [
      "20\n",
      "(20, 20, 3)\n",
      "n_observations: 1200\n",
      "n_observations: 1200\n"
     ]
    }
   ],
   "source": [
    "import gymnasium_snake_game\n",
    "import gymnasium\n",
    "import numpy as np\n",
    "import math\n",
    "import matplotlib\n",
    "import matplotlib.pyplot as plt\n",
    "\n",
    "from IPython import display\n",
    "\n",
    "import torch\n",
    "import torch.optim as optim\n",
    "\n",
    "# BATCH_SIZE is the number of transitions sampled from the replay buffer\n",
    "# GAMMA is the discount factor as mentioned in the previous section\n",
    "# EPS_START is the starting value of epsilon\n",
    "# EPS_END is the final value of epsilon\n",
    "# EPS_DECAY controls the rate of exponential decay of epsilon, higher means a slower decay\n",
    "# TAU is the update rate of the target network\n",
    "# LR is the learning rate of the ``AdamW`` optimizer\n",
    "BATCH_SIZE = 128\n",
    "GAMMA = 0.99\n",
    "EPS_START = 0.9\n",
    "EPS_END = 0.05\n",
    "EPS_DECAY = 1000\n",
    "TAU = 0.005\n",
    "LR = 1e-4\n",
    "\n",
    "# Falls das Jupyter Notebook \n",
    "device = torch.device(\n",
    "    \"cuda\" if torch.cuda.is_available() else\n",
    "    \"mps\" if torch.backends.mps.is_available() else\n",
    "    \"cpu\"\n",
    ")\n",
    "\n",
    "\n",
    "options = {\n",
    "    'fps': 30,\n",
    "    'max_step': 500,\n",
    "    'init_length': 4,\n",
    "    'food_reward': 2.0,\n",
    "    'dist_reward': 0.1, # todo ist das ein sinnvoller dist reward?\n",
    "    'living_bonus': 0.0,\n",
    "    'death_penalty': -1.0,\n",
    "    'width': 20,\n",
    "    'height': 20,\n",
    "}\n",
    "\n",
    "env = gymnasium.make('Snake-v1', render_mode='human', **options)\n",
    "\n",
    "\n",
    "# env.reset() # braucht man nicht!?\n",
    "\n",
    "\n",
    "# Get number of actions from gym action space\n",
    "n_actions = env.action_space.n\n",
    "# Get the number of state observations\n",
    "state, info = env.reset()\n",
    "n_observations = len(state)\n",
    "\n",
    "print(n_observations)\n",
    "\n",
    "# n_observations = 40 * 40 * 3 # höhe, breite, rgb farben\n",
    "print(state.shape)\n",
    "n_observations = state.shape[0] * state.shape[1] * state.shape[2]\n",
    "\n",
    "\n",
    "policy_net = DQN(n_observations, n_actions).to(device)\n",
    "target_net = DQN(n_observations, n_actions).to(device)\n",
    "target_net.load_state_dict(policy_net.state_dict())\n",
    "\n",
    "optimizer = optim.AdamW(policy_net.parameters(), lr=LR, amsgrad=True)\n",
    "memory = ReplayMemory(10000)\n",
    "\n",
    "\n",
    "steps_done = 0\n",
    "\n",
    "\n",
    "def select_action(state):\n",
    "    global steps_done\n",
    "    sample = random.random()\n",
    "    \n",
    "    eps_threshold = EPS_END + (EPS_START - EPS_END) * math.exp(-1. * steps_done / EPS_DECAY)\n",
    "    steps_done += 1\n",
    "    if sample > eps_threshold:\n",
    "        with torch.no_grad():\n",
    "            # t.max(1) will return the largest column value of each row.\n",
    "            # second column on max result is index of where max element was\n",
    "            # found, so we pick action with the larger expected reward.\n",
    "            # return policy_net(state).max(1).indices.view(1, 1)\n",
    "            return policy_net(state).argmax(dim=1).view(1, 1)\n",
    "    else:\n",
    "        # return torch.tensor([[env.action_space.sample()]], device=device, dtype=torch.long)\n",
    "        return torch.tensor([[random.randint(0, 3)]], device=device, dtype=torch.long)\n",
    "\n",
    "episode_durations = []\n",
    "\n",
    "\n",
    "def plot_durations(show_result=False):\n",
    "    plt.figure(1)\n",
    "    durations_t = torch.tensor(episode_durations, dtype=torch.float)\n",
    "    if show_result:\n",
    "        plt.title('Result')\n",
    "    else:\n",
    "        plt.clf()\n",
    "        plt.title('Training...')\n",
    "    plt.xlabel('Episode')\n",
    "    plt.ylabel('Duration')\n",
    "    plt.plot(durations_t.numpy())\n",
    "    # Take 100 episode averages and plot them too\n",
    "    if len(durations_t) >= 100:\n",
    "        means = durations_t.unfold(0, 100, 1).mean(1).view(-1)\n",
    "        means = torch.cat((torch.zeros(99), means))\n",
    "        plt.plot(means.numpy())\n",
    "\n",
    "    plt.pause(0.001)  # pause a bit so that plots are updated\n",
    "    display.display(plt.gcf())\n",
    "    display.clear_output(wait=True)"
   ],
   "metadata": {
    "collapsed": false,
    "ExecuteTime": {
     "end_time": "2025-01-29T10:03:17.595700600Z",
     "start_time": "2025-01-29T10:03:17.545700100Z"
    }
   },
   "id": "6acf3af55760c55e"
  },
  {
   "cell_type": "code",
   "execution_count": 12,
   "outputs": [],
   "source": [
    "def optimize_model():\n",
    "    if len(memory) < BATCH_SIZE:\n",
    "        return\n",
    "    transitions = memory.sample(BATCH_SIZE)\n",
    "    # Transpose the batch (see https://stackoverflow.com/a/19343/3343043 for\n",
    "    # detailed explanation). This converts batch-array of Transitions\n",
    "    # to Transition of batch-arrays.\n",
    "    batch = Transition(*zip(*transitions))\n",
    "\n",
    "    # Compute a mask of non-final states and concatenate the batch elements\n",
    "    # (a final state would've been the one after which simulation ended)\n",
    "    non_final_mask = torch.tensor(tuple(map(lambda s: s is not None,\n",
    "                                          batch.next_state)), device=device, dtype=torch.bool)\n",
    "    non_final_next_states = torch.cat([s for s in batch.next_state\n",
    "                                                if s is not None])\n",
    "    state_batch = torch.cat(batch.state)\n",
    "    action_batch = torch.cat(batch.action)\n",
    "    reward_batch = torch.cat(batch.reward)\n",
    "\n",
    "    # Compute Q(s_t, a) - the model computes Q(s_t), then we select the\n",
    "    # columns of actions taken. These are the actions which would've been taken\n",
    "    # for each batch state according to policy_net\n",
    "    state_action_values = policy_net(state_batch).gather(1, action_batch)\n",
    "\n",
    "    # Compute V(s_{t+1}) for all next states.\n",
    "    # Expected values of actions for non_final_next_states are computed based\n",
    "    # on the \"older\" target_net; selecting their best reward with max(1).values\n",
    "    # This is merged based on the mask, such that we'll have either the expected\n",
    "    # state value or 0 in case the state was final.\n",
    "    next_state_values = torch.zeros(BATCH_SIZE, device=device)\n",
    "    with torch.no_grad():\n",
    "        next_state_values[non_final_mask] = target_net(non_final_next_states).max(1).values\n",
    "    # Compute the expected Q values\n",
    "    expected_state_action_values = (next_state_values * GAMMA) + reward_batch\n",
    "\n",
    "    # Compute Huber loss\n",
    "    criterion = nn.SmoothL1Loss()\n",
    "    loss = criterion(state_action_values, expected_state_action_values.unsqueeze(1))\n",
    "\n",
    "    # Optimize the model\n",
    "    optimizer.zero_grad()\n",
    "    loss.backward()\n",
    "    # In-place gradient clipping\n",
    "    torch.nn.utils.clip_grad_value_(policy_net.parameters(), 100)\n",
    "    optimizer.step()"
   ],
   "metadata": {
    "collapsed": false,
    "ExecuteTime": {
     "end_time": "2025-01-29T10:03:21.374983700Z",
     "start_time": "2025-01-29T10:03:21.343817900Z"
    }
   },
   "id": "f0c2f10dcdc750a0"
  },
  {
   "cell_type": "code",
   "execution_count": 13,
   "outputs": [
    {
     "data": {
      "text/plain": "<Figure size 640x480 with 0 Axes>"
     },
     "metadata": {},
     "output_type": "display_data"
    }
   ],
   "source": [
    "from itertools import count\n",
    "\n",
    "if torch.cuda.is_available() or torch.backends.mps.is_available():\n",
    "    num_episodes = 600\n",
    "else:\n",
    "    num_episodes = 50\n",
    "\n",
    "for i_episode in range(num_episodes):\n",
    "    # Initialize the environment and get its state\n",
    "    state, info = env.reset()\n",
    "    # print(f\"state shape: {state.shape}\")\n",
    "    state = torch.tensor(state, dtype=torch.float32, device=device).unsqueeze(0)\n",
    "    # print(f\"state shape: {state.shape}\")\n",
    "    # state = torch.tensor(state, dtype=torch.float32, device=device).flatten().unsqueeze(0)\n",
    "    # print(f\"state shape: {state_fl.shape}\")\n",
    "    for t in count():\n",
    "        action = select_action(state)\n",
    "        observation, reward, terminated, truncated, _ = env.step(action.item())\n",
    "        reward = torch.tensor([reward], device=device)\n",
    "        done = terminated or truncated\n",
    "\n",
    "        if terminated:\n",
    "            next_state = None\n",
    "        else:\n",
    "            next_state = torch.tensor(observation, dtype=torch.float32, device=device).unsqueeze(0)\n",
    "\n",
    "        # Store the transition in memory\n",
    "        memory.push(state, action, next_state, reward)\n",
    "\n",
    "        # Move to the next state\n",
    "        state = next_state\n",
    "\n",
    "        # Perform one step of the optimization (on the policy network)\n",
    "        optimize_model()\n",
    "\n",
    "        # Soft update of the target network's weights\n",
    "        # θ′ ← τ θ + (1 −τ )θ′\n",
    "        target_net_state_dict = target_net.state_dict()\n",
    "        policy_net_state_dict = policy_net.state_dict()\n",
    "        for key in policy_net_state_dict:\n",
    "            target_net_state_dict[key] = policy_net_state_dict[key]*TAU + target_net_state_dict[key]*(1-TAU)\n",
    "        target_net.load_state_dict(target_net_state_dict)\n",
    "\n",
    "        if done:\n",
    "            episode_durations.append(t + 1)\n",
    "            plot_durations()\n",
    "            break\n",
    "\n",
    "print('Complete')\n",
    "plot_durations(show_result=True)\n",
    "plt.ioff()\n",
    "plt.show()"
   ],
   "metadata": {
    "collapsed": false
   },
   "id": "d68bd0b3d7f84d4b"
  },
  {
   "cell_type": "code",
   "execution_count": 2,
   "outputs": [
    {
     "ename": "ImportError",
     "evalue": "cannot import name 'model_from_config' from 'tensorflow.keras.models' (C:\\Users\\Kai\\AppData\\Local\\Programs\\Python\\Python312\\Lib\\site-packages\\keras\\_tf_keras\\keras\\models\\__init__.py)",
     "output_type": "error",
     "traceback": [
      "\u001B[1;31m---------------------------------------------------------------------------\u001B[0m",
      "\u001B[1;31mImportError\u001B[0m                               Traceback (most recent call last)",
      "Cell \u001B[1;32mIn[2], line 10\u001B[0m\n\u001B[0;32m      6\u001B[0m \u001B[38;5;28;01mfrom\u001B[39;00m \u001B[38;5;21;01mtensorflow\u001B[39;00m\u001B[38;5;21;01m.\u001B[39;00m\u001B[38;5;21;01mkeras\u001B[39;00m\u001B[38;5;21;01m.\u001B[39;00m\u001B[38;5;21;01mlayers\u001B[39;00m \u001B[38;5;28;01mimport\u001B[39;00m Dense, Flatten\n\u001B[0;32m      7\u001B[0m \u001B[38;5;28;01mfrom\u001B[39;00m \u001B[38;5;21;01mtensorflow\u001B[39;00m\u001B[38;5;21;01m.\u001B[39;00m\u001B[38;5;21;01mkeras\u001B[39;00m\u001B[38;5;21;01m.\u001B[39;00m\u001B[38;5;21;01moptimizers\u001B[39;00m \u001B[38;5;28;01mimport\u001B[39;00m Adam\n\u001B[1;32m---> 10\u001B[0m \u001B[38;5;28;01mfrom\u001B[39;00m \u001B[38;5;21;01mrl\u001B[39;00m\u001B[38;5;21;01m.\u001B[39;00m\u001B[38;5;21;01magents\u001B[39;00m \u001B[38;5;28;01mimport\u001B[39;00m DQNAgent\n\u001B[0;32m     11\u001B[0m \u001B[38;5;28;01mfrom\u001B[39;00m \u001B[38;5;21;01mrl\u001B[39;00m\u001B[38;5;21;01m.\u001B[39;00m\u001B[38;5;21;01mpolicy\u001B[39;00m \u001B[38;5;28;01mimport\u001B[39;00m BoltzmannQPolicy\n\u001B[0;32m     12\u001B[0m \u001B[38;5;28;01mfrom\u001B[39;00m \u001B[38;5;21;01mrl\u001B[39;00m\u001B[38;5;21;01m.\u001B[39;00m\u001B[38;5;21;01mmemory\u001B[39;00m \u001B[38;5;28;01mimport\u001B[39;00m SequentialMemory\n",
      "File \u001B[1;32m~\\AppData\\Local\\Programs\\Python\\Python312\\Lib\\site-packages\\rl\\agents\\__init__.py:1\u001B[0m\n\u001B[1;32m----> 1\u001B[0m \u001B[38;5;28;01mfrom\u001B[39;00m \u001B[38;5;21;01m.\u001B[39;00m\u001B[38;5;21;01mdqn\u001B[39;00m \u001B[38;5;28;01mimport\u001B[39;00m DQNAgent, NAFAgent, ContinuousDQNAgent\n\u001B[0;32m      2\u001B[0m \u001B[38;5;28;01mfrom\u001B[39;00m \u001B[38;5;21;01m.\u001B[39;00m\u001B[38;5;21;01mddpg\u001B[39;00m \u001B[38;5;28;01mimport\u001B[39;00m DDPGAgent\n\u001B[0;32m      3\u001B[0m \u001B[38;5;28;01mfrom\u001B[39;00m \u001B[38;5;21;01m.\u001B[39;00m\u001B[38;5;21;01mcem\u001B[39;00m \u001B[38;5;28;01mimport\u001B[39;00m CEMAgent\n",
      "File \u001B[1;32m~\\AppData\\Local\\Programs\\Python\\Python312\\Lib\\site-packages\\rl\\agents\\dqn.py:8\u001B[0m\n\u001B[0;32m      5\u001B[0m \u001B[38;5;28;01mfrom\u001B[39;00m \u001B[38;5;21;01mtensorflow\u001B[39;00m\u001B[38;5;21;01m.\u001B[39;00m\u001B[38;5;21;01mkeras\u001B[39;00m\u001B[38;5;21;01m.\u001B[39;00m\u001B[38;5;21;01mlayers\u001B[39;00m \u001B[38;5;28;01mimport\u001B[39;00m Lambda, Input, Layer, Dense\n\u001B[0;32m      7\u001B[0m \u001B[38;5;28;01mfrom\u001B[39;00m \u001B[38;5;21;01mrl\u001B[39;00m\u001B[38;5;21;01m.\u001B[39;00m\u001B[38;5;21;01mcore\u001B[39;00m \u001B[38;5;28;01mimport\u001B[39;00m Agent\n\u001B[1;32m----> 8\u001B[0m \u001B[38;5;28;01mfrom\u001B[39;00m \u001B[38;5;21;01mrl\u001B[39;00m\u001B[38;5;21;01m.\u001B[39;00m\u001B[38;5;21;01mpolicy\u001B[39;00m \u001B[38;5;28;01mimport\u001B[39;00m EpsGreedyQPolicy, GreedyQPolicy\n\u001B[0;32m      9\u001B[0m \u001B[38;5;28;01mfrom\u001B[39;00m \u001B[38;5;21;01mrl\u001B[39;00m\u001B[38;5;21;01m.\u001B[39;00m\u001B[38;5;21;01mutil\u001B[39;00m \u001B[38;5;28;01mimport\u001B[39;00m \u001B[38;5;241m*\u001B[39m\n\u001B[0;32m     12\u001B[0m \u001B[38;5;28;01mdef\u001B[39;00m \u001B[38;5;21mmean_q\u001B[39m(y_true, y_pred):\n",
      "File \u001B[1;32m~\\AppData\\Local\\Programs\\Python\\Python312\\Lib\\site-packages\\rl\\policy.py:3\u001B[0m\n\u001B[0;32m      1\u001B[0m \u001B[38;5;28;01mimport\u001B[39;00m \u001B[38;5;21;01mnumpy\u001B[39;00m \u001B[38;5;28;01mas\u001B[39;00m \u001B[38;5;21;01mnp\u001B[39;00m\n\u001B[1;32m----> 3\u001B[0m \u001B[38;5;28;01mfrom\u001B[39;00m \u001B[38;5;21;01mrl\u001B[39;00m\u001B[38;5;21;01m.\u001B[39;00m\u001B[38;5;21;01mutil\u001B[39;00m \u001B[38;5;28;01mimport\u001B[39;00m \u001B[38;5;241m*\u001B[39m\n\u001B[0;32m      6\u001B[0m \u001B[38;5;28;01mclass\u001B[39;00m \u001B[38;5;21;01mPolicy\u001B[39;00m:\n\u001B[0;32m      7\u001B[0m \u001B[38;5;250m    \u001B[39m\u001B[38;5;124;03m\"\"\"Abstract base class for all implemented policies.\u001B[39;00m\n\u001B[0;32m      8\u001B[0m \n\u001B[0;32m      9\u001B[0m \u001B[38;5;124;03m    Each policy helps with selection of action to take on an environment.\u001B[39;00m\n\u001B[1;32m   (...)\u001B[0m\n\u001B[0;32m     17\u001B[0m \u001B[38;5;124;03m        agent (rl.core.Agent): Agent used\u001B[39;00m\n\u001B[0;32m     18\u001B[0m \u001B[38;5;124;03m    \"\"\"\u001B[39;00m\n",
      "File \u001B[1;32m~\\AppData\\Local\\Programs\\Python\\Python312\\Lib\\site-packages\\rl\\util.py:3\u001B[0m\n\u001B[0;32m      1\u001B[0m \u001B[38;5;28;01mimport\u001B[39;00m \u001B[38;5;21;01mnumpy\u001B[39;00m \u001B[38;5;28;01mas\u001B[39;00m \u001B[38;5;21;01mnp\u001B[39;00m\n\u001B[1;32m----> 3\u001B[0m \u001B[38;5;28;01mfrom\u001B[39;00m \u001B[38;5;21;01mtensorflow\u001B[39;00m\u001B[38;5;21;01m.\u001B[39;00m\u001B[38;5;21;01mkeras\u001B[39;00m\u001B[38;5;21;01m.\u001B[39;00m\u001B[38;5;21;01mmodels\u001B[39;00m \u001B[38;5;28;01mimport\u001B[39;00m model_from_config, Sequential, Model, model_from_config\n\u001B[0;32m      4\u001B[0m \u001B[38;5;28;01mimport\u001B[39;00m \u001B[38;5;21;01mtensorflow\u001B[39;00m\u001B[38;5;21;01m.\u001B[39;00m\u001B[38;5;21;01mkeras\u001B[39;00m\u001B[38;5;21;01m.\u001B[39;00m\u001B[38;5;21;01moptimizers\u001B[39;00m \u001B[38;5;28;01mas\u001B[39;00m \u001B[38;5;21;01moptimizers\u001B[39;00m\n\u001B[0;32m      5\u001B[0m \u001B[38;5;28;01mimport\u001B[39;00m \u001B[38;5;21;01mtensorflow\u001B[39;00m\u001B[38;5;21;01m.\u001B[39;00m\u001B[38;5;21;01mkeras\u001B[39;00m\u001B[38;5;21;01m.\u001B[39;00m\u001B[38;5;21;01mbackend\u001B[39;00m \u001B[38;5;28;01mas\u001B[39;00m \u001B[38;5;21;01mK\u001B[39;00m\n",
      "\u001B[1;31mImportError\u001B[0m: cannot import name 'model_from_config' from 'tensorflow.keras.models' (C:\\Users\\Kai\\AppData\\Local\\Programs\\Python\\Python312\\Lib\\site-packages\\keras\\_tf_keras\\keras\\models\\__init__.py)"
     ]
    }
   ],
   "source": [
    "import gymnasium_snake_game\n",
    "import gymnasium\n",
    "import numpy as np\n",
    "\n",
    "# Aus der Readme von: https://github.com/lychanl/Gymnasium_Snake_Game\n",
    "options = {\n",
    "    'fps': 30,\n",
    "    'max_step': 500,\n",
    "    'init_length': 4,\n",
    "    'food_reward': 2.0,\n",
    "    'dist_reward': 0.1, # todo ist das ein sinnvoller dist reward?\n",
    "    'living_bonus': 0.0,\n",
    "    'death_penalty': -1.0,\n",
    "    'width': 40,\n",
    "    'height': 40,\n",
    "}\n",
    "\n",
    "env = gymnasium.make('Snake-v1', render_mode='human', **options)\n",
    "\n",
    "states = env.observation_space.shape[0]\n",
    "actions = env.action_space.n\n",
    "print(actions) # Es gibt 4 actions (0-3), die die Snake ausführen kann\n",
    "\n",
    "\n",
    "\n",
    "# env.reset()\n",
    "\n",
    "# # for human playing\n",
    "# env.unwrapped.play()\n",
    "# \n",
    "# # for ai playing\n",
    "# while True:\n",
    "#     obs, reward, done, truncated, info = env.step(env.action_space.sample())\n",
    "#     if done:\n",
    "#         break\n",
    "env.close()"
   ],
   "metadata": {
    "collapsed": false,
    "ExecuteTime": {
     "end_time": "2025-01-26T15:56:36.246556200Z",
     "start_time": "2025-01-26T15:56:08.088616300Z"
    }
   },
   "id": "8bfd771c6a14ce35"
  },
  {
   "cell_type": "code",
   "execution_count": 1,
   "outputs": [
    {
     "name": "stdout",
     "output_type": "stream",
     "text": [
      "Collecting torch\n",
      "  Downloading torch-2.5.1-cp312-cp312-win_amd64.whl.metadata (28 kB)\n",
      "Collecting torchvision\n",
      "  Downloading torchvision-0.20.1-cp312-cp312-win_amd64.whl.metadata (6.2 kB)\n",
      "Collecting filelock (from torch)\n",
      "  Downloading filelock-3.17.0-py3-none-any.whl.metadata (2.9 kB)\n",
      "Requirement already satisfied: typing-extensions>=4.8.0 in c:\\users\\kai\\appdata\\local\\programs\\python\\python312\\lib\\site-packages (from torch) (4.12.2)\n",
      "Requirement already satisfied: networkx in c:\\users\\kai\\appdata\\local\\programs\\python\\python312\\lib\\site-packages (from torch) (3.3)\n",
      "Requirement already satisfied: jinja2 in c:\\users\\kai\\appdata\\local\\programs\\python\\python312\\lib\\site-packages (from torch) (3.1.4)\n",
      "Collecting fsspec (from torch)\n",
      "  Downloading fsspec-2024.12.0-py3-none-any.whl.metadata (11 kB)\n",
      "Requirement already satisfied: setuptools in c:\\users\\kai\\appdata\\local\\programs\\python\\python312\\lib\\site-packages (from torch) (70.1.0)\n",
      "Collecting sympy==1.13.1 (from torch)\n",
      "  Downloading sympy-1.13.1-py3-none-any.whl.metadata (12 kB)\n",
      "Collecting mpmath<1.4,>=1.1.0 (from sympy==1.13.1->torch)\n",
      "  Downloading mpmath-1.3.0-py3-none-any.whl.metadata (8.6 kB)\n",
      "Requirement already satisfied: numpy in c:\\users\\kai\\appdata\\local\\programs\\python\\python312\\lib\\site-packages (from torchvision) (1.26.4)\n",
      "Requirement already satisfied: pillow!=8.3.*,>=5.3.0 in c:\\users\\kai\\appdata\\local\\programs\\python\\python312\\lib\\site-packages (from torchvision) (10.3.0)\n",
      "Requirement already satisfied: MarkupSafe>=2.0 in c:\\users\\kai\\appdata\\local\\programs\\python\\python312\\lib\\site-packages (from jinja2->torch) (2.1.5)\n",
      "Downloading torch-2.5.1-cp312-cp312-win_amd64.whl (203.0 MB)\n",
      "   ---------------------------------------- 0.0/203.0 MB ? eta -:--:--\n",
      "   ---------------------------------------- 0.1/203.0 MB 2.0 MB/s eta 0:01:43\n",
      "   ---------------------------------------- 0.4/203.0 MB 5.0 MB/s eta 0:00:41\n",
      "   ---------------------------------------- 1.4/203.0 MB 9.9 MB/s eta 0:00:21\n",
      "    --------------------------------------- 2.9/203.0 MB 15.5 MB/s eta 0:00:13\n",
      "    --------------------------------------- 4.1/203.0 MB 18.8 MB/s eta 0:00:11\n",
      "    --------------------------------------- 4.1/203.0 MB 18.8 MB/s eta 0:00:11\n",
      "   - -------------------------------------- 6.1/203.0 MB 18.5 MB/s eta 0:00:11\n",
      "   - -------------------------------------- 8.2/203.0 MB 21.9 MB/s eta 0:00:09\n",
      "   - -------------------------------------- 9.0/203.0 MB 21.2 MB/s eta 0:00:10\n",
      "   -- ------------------------------------- 12.0/203.0 MB 32.7 MB/s eta 0:00:06\n",
      "   -- ------------------------------------- 13.6/203.0 MB 32.7 MB/s eta 0:00:06\n",
      "   -- ------------------------------------- 15.1/203.0 MB 38.5 MB/s eta 0:00:05\n",
      "   --- ------------------------------------ 16.6/203.0 MB 36.4 MB/s eta 0:00:06\n",
      "   --- ------------------------------------ 18.1/203.0 MB 36.4 MB/s eta 0:00:06\n",
      "   --- ------------------------------------ 19.6/203.0 MB 36.4 MB/s eta 0:00:06\n",
      "   ---- ----------------------------------- 21.1/203.0 MB 32.8 MB/s eta 0:00:06\n",
      "   ---- ----------------------------------- 22.6/203.0 MB 31.2 MB/s eta 0:00:06\n",
      "   ---- ----------------------------------- 24.1/203.0 MB 31.2 MB/s eta 0:00:06\n",
      "   ---- ----------------------------------- 25.2/203.0 MB 31.2 MB/s eta 0:00:06\n",
      "   ----- ---------------------------------- 27.1/203.0 MB 31.1 MB/s eta 0:00:06\n",
      "   ----- ---------------------------------- 28.6/203.0 MB 32.8 MB/s eta 0:00:06\n",
      "   ----- ---------------------------------- 30.1/203.0 MB 32.8 MB/s eta 0:00:06\n",
      "   ------ --------------------------------- 31.6/203.0 MB 31.2 MB/s eta 0:00:06\n",
      "   ------ --------------------------------- 33.2/203.0 MB 31.2 MB/s eta 0:00:06\n",
      "   ------ --------------------------------- 34.7/203.0 MB 31.2 MB/s eta 0:00:06\n",
      "   ------- -------------------------------- 36.1/203.0 MB 31.2 MB/s eta 0:00:06\n",
      "   ------- -------------------------------- 37.7/203.0 MB 31.2 MB/s eta 0:00:06\n",
      "   ------- -------------------------------- 39.2/203.0 MB 31.1 MB/s eta 0:00:06\n",
      "   -------- ------------------------------- 40.7/203.0 MB 31.2 MB/s eta 0:00:06\n",
      "   -------- ------------------------------- 42.2/203.0 MB 31.2 MB/s eta 0:00:06\n",
      "   -------- ------------------------------- 43.7/203.0 MB 31.2 MB/s eta 0:00:06\n",
      "   -------- ------------------------------- 45.2/203.0 MB 32.8 MB/s eta 0:00:05\n",
      "   --------- ------------------------------ 46.7/203.0 MB 31.2 MB/s eta 0:00:06\n",
      "   --------- ------------------------------ 48.3/203.0 MB 31.2 MB/s eta 0:00:05\n",
      "   --------- ------------------------------ 49.8/203.0 MB 32.7 MB/s eta 0:00:05\n",
      "   ---------- ----------------------------- 51.3/203.0 MB 31.1 MB/s eta 0:00:05\n",
      "   ---------- ----------------------------- 52.3/203.0 MB 31.2 MB/s eta 0:00:05\n",
      "   ---------- ----------------------------- 54.3/203.0 MB 31.2 MB/s eta 0:00:05\n",
      "   ---------- ----------------------------- 55.8/203.0 MB 34.4 MB/s eta 0:00:05\n",
      "   ----------- ---------------------------- 57.3/203.0 MB 32.8 MB/s eta 0:00:05\n",
      "   ----------- ---------------------------- 58.8/203.0 MB 32.8 MB/s eta 0:00:05\n",
      "   ----------- ---------------------------- 60.3/203.0 MB 32.8 MB/s eta 0:00:05\n",
      "   ------------ --------------------------- 61.8/203.0 MB 32.8 MB/s eta 0:00:05\n",
      "   ------------ --------------------------- 63.4/203.0 MB 32.7 MB/s eta 0:00:05\n",
      "   ------------ --------------------------- 64.9/203.0 MB 32.8 MB/s eta 0:00:05\n",
      "   ------------- -------------------------- 66.3/203.0 MB 32.7 MB/s eta 0:00:05\n",
      "   ------------- -------------------------- 68.0/203.0 MB 31.2 MB/s eta 0:00:05\n",
      "   ------------- -------------------------- 69.4/203.0 MB 31.2 MB/s eta 0:00:05\n",
      "   ------------- -------------------------- 71.0/203.0 MB 31.2 MB/s eta 0:00:05\n",
      "   -------------- ------------------------- 72.5/203.0 MB 31.2 MB/s eta 0:00:05\n",
      "   -------------- ------------------------- 73.9/203.0 MB 32.8 MB/s eta 0:00:04\n",
      "   -------------- ------------------------- 75.4/203.0 MB 32.7 MB/s eta 0:00:04\n",
      "   --------------- ------------------------ 77.0/203.0 MB 32.7 MB/s eta 0:00:04\n",
      "   --------------- ------------------------ 78.5/203.0 MB 31.2 MB/s eta 0:00:04\n",
      "   --------------- ------------------------ 80.1/203.0 MB 31.2 MB/s eta 0:00:04\n",
      "   ---------------- ----------------------- 81.6/203.0 MB 31.2 MB/s eta 0:00:04\n",
      "   ---------------- ----------------------- 83.1/203.0 MB 31.2 MB/s eta 0:00:04\n",
      "   ---------------- ----------------------- 84.6/203.0 MB 31.2 MB/s eta 0:00:04\n",
      "   ---------------- ----------------------- 86.0/203.0 MB 32.8 MB/s eta 0:00:04\n",
      "   ----------------- ---------------------- 87.6/203.0 MB 32.7 MB/s eta 0:00:04\n",
      "   ----------------- ---------------------- 89.1/203.0 MB 32.7 MB/s eta 0:00:04\n",
      "   ----------------- ---------------------- 90.6/203.0 MB 32.7 MB/s eta 0:00:04\n",
      "   ------------------ --------------------- 92.1/203.0 MB 32.7 MB/s eta 0:00:04\n",
      "   ------------------ --------------------- 93.6/203.0 MB 32.8 MB/s eta 0:00:04\n",
      "   ------------------ --------------------- 95.1/203.0 MB 32.8 MB/s eta 0:00:04\n",
      "   ------------------- -------------------- 96.6/203.0 MB 32.8 MB/s eta 0:00:04\n",
      "   ------------------- -------------------- 98.2/203.0 MB 32.8 MB/s eta 0:00:04\n",
      "   ------------------- -------------------- 99.7/203.0 MB 32.7 MB/s eta 0:00:04\n",
      "   ------------------- ------------------- 101.2/203.0 MB 34.4 MB/s eta 0:00:03\n",
      "   ------------------- ------------------- 102.7/203.0 MB 32.7 MB/s eta 0:00:04\n",
      "   -------------------- ------------------ 104.2/203.0 MB 34.4 MB/s eta 0:00:03\n",
      "   -------------------- ------------------ 105.7/203.0 MB 32.8 MB/s eta 0:00:03\n",
      "   -------------------- ------------------ 107.2/203.0 MB 32.8 MB/s eta 0:00:03\n",
      "   -------------------- ------------------ 108.7/203.0 MB 32.8 MB/s eta 0:00:03\n",
      "   --------------------- ----------------- 110.2/203.0 MB 32.8 MB/s eta 0:00:03\n",
      "   --------------------- ----------------- 111.7/203.0 MB 32.7 MB/s eta 0:00:03\n",
      "   --------------------- ----------------- 113.2/203.0 MB 32.7 MB/s eta 0:00:03\n",
      "   ---------------------- ---------------- 114.7/203.0 MB 32.7 MB/s eta 0:00:03\n",
      "   ---------------------- ---------------- 115.7/203.0 MB 32.7 MB/s eta 0:00:03\n",
      "   ---------------------- ---------------- 117.7/203.0 MB 32.8 MB/s eta 0:00:03\n",
      "   ---------------------- ---------------- 118.7/203.0 MB 32.7 MB/s eta 0:00:03\n",
      "   ----------------------- --------------- 120.7/203.0 MB 32.8 MB/s eta 0:00:03\n",
      "   ----------------------- --------------- 122.2/203.0 MB 32.8 MB/s eta 0:00:03\n",
      "   ----------------------- --------------- 123.7/203.0 MB 32.7 MB/s eta 0:00:03\n",
      "   ------------------------ -------------- 125.2/203.0 MB 32.7 MB/s eta 0:00:03\n",
      "   ------------------------ -------------- 126.7/203.0 MB 32.7 MB/s eta 0:00:03\n",
      "   ------------------------ -------------- 128.2/203.0 MB 32.7 MB/s eta 0:00:03\n",
      "   ------------------------ -------------- 129.7/203.0 MB 32.8 MB/s eta 0:00:03\n",
      "   ------------------------- ------------- 131.2/203.0 MB 32.8 MB/s eta 0:00:03\n",
      "   ------------------------- ------------- 132.8/203.0 MB 32.8 MB/s eta 0:00:03\n",
      "   ------------------------- ------------- 134.2/203.0 MB 32.8 MB/s eta 0:00:03\n",
      "   -------------------------- ------------ 135.7/203.0 MB 32.7 MB/s eta 0:00:03\n",
      "   -------------------------- ------------ 137.2/203.0 MB 32.7 MB/s eta 0:00:03\n",
      "   -------------------------- ------------ 138.8/203.0 MB 32.7 MB/s eta 0:00:02\n",
      "   -------------------------- ------------ 139.8/203.0 MB 32.7 MB/s eta 0:00:02\n",
      "   --------------------------- ----------- 141.8/203.0 MB 32.8 MB/s eta 0:00:02\n",
      "   --------------------------- ----------- 143.4/203.0 MB 32.8 MB/s eta 0:00:02\n",
      "   --------------------------- ----------- 144.0/203.0 MB 32.7 MB/s eta 0:00:02\n",
      "   --------------------------- ----------- 144.0/203.0 MB 32.7 MB/s eta 0:00:02\n",
      "   --------------------------- ----------- 144.0/203.0 MB 32.7 MB/s eta 0:00:02\n",
      "   --------------------------- ----------- 144.0/203.0 MB 32.7 MB/s eta 0:00:02\n",
      "   --------------------------- ----------- 144.0/203.0 MB 32.7 MB/s eta 0:00:02\n",
      "   --------------------------- ----------- 144.0/203.0 MB 32.7 MB/s eta 0:00:02\n",
      "   --------------------------- ----------- 144.0/203.0 MB 32.7 MB/s eta 0:00:02\n",
      "   --------------------------- ----------- 144.0/203.0 MB 32.7 MB/s eta 0:00:02\n",
      "   --------------------------- ----------- 144.0/203.0 MB 32.7 MB/s eta 0:00:02\n",
      "   --------------------------- ----------- 144.0/203.0 MB 32.7 MB/s eta 0:00:02\n",
      "   --------------------------- ----------- 144.0/203.0 MB 32.7 MB/s eta 0:00:02\n",
      "   --------------------------- ----------- 144.0/203.0 MB 32.7 MB/s eta 0:00:02\n",
      "   --------------------------- ----------- 144.0/203.0 MB 32.7 MB/s eta 0:00:02\n",
      "   --------------------------- ----------- 144.0/203.0 MB 32.7 MB/s eta 0:00:02\n",
      "   --------------------------- ----------- 144.0/203.0 MB 32.7 MB/s eta 0:00:02\n",
      "   --------------------------- ----------- 144.0/203.0 MB 32.7 MB/s eta 0:00:02\n",
      "   --------------------------- ----------- 144.0/203.0 MB 32.7 MB/s eta 0:00:02\n",
      "   --------------------------- ----------- 144.0/203.0 MB 32.7 MB/s eta 0:00:02\n",
      "   --------------------------- ----------- 144.0/203.0 MB 32.7 MB/s eta 0:00:02\n",
      "   --------------------------- ----------- 144.0/203.0 MB 32.7 MB/s eta 0:00:02\n",
      "   ---------------------------- ----------- 145.9/203.0 MB 8.4 MB/s eta 0:00:07\n",
      "   ----------------------------- ---------- 149.8/203.0 MB 8.8 MB/s eta 0:00:07\n",
      "   ----------------------------- ---------- 152.2/203.0 MB 9.1 MB/s eta 0:00:06\n",
      "   ------------------------------ -------- 157.2/203.0 MB 81.8 MB/s eta 0:00:01\n",
      "   ------------------------------ -------- 157.2/203.0 MB 81.8 MB/s eta 0:00:01\n",
      "   ------------------------------ -------- 160.6/203.0 MB 59.5 MB/s eta 0:00:01\n",
      "   ------------------------------- ------- 162.0/203.0 MB 50.4 MB/s eta 0:00:01\n",
      "   ------------------------------- ------- 163.6/203.0 MB 46.7 MB/s eta 0:00:01\n",
      "   ------------------------------- ------- 165.2/203.0 MB 40.9 MB/s eta 0:00:01\n",
      "   -------------------------------- ------ 166.6/203.0 MB 34.4 MB/s eta 0:00:02\n",
      "   -------------------------------- ------ 168.2/203.0 MB 38.6 MB/s eta 0:00:01\n",
      "   -------------------------------- ------ 169.7/203.0 MB 34.4 MB/s eta 0:00:01\n",
      "   -------------------------------- ------ 171.2/203.0 MB 32.8 MB/s eta 0:00:01\n",
      "   --------------------------------- ----- 172.2/203.0 MB 32.8 MB/s eta 0:00:01\n",
      "   --------------------------------- ----- 173.7/203.0 MB 31.2 MB/s eta 0:00:01\n",
      "   --------------------------------- ----- 175.2/203.0 MB 32.8 MB/s eta 0:00:01\n",
      "   --------------------------------- ----- 176.7/203.0 MB 32.8 MB/s eta 0:00:01\n",
      "   ---------------------------------- ---- 178.6/203.0 MB 32.7 MB/s eta 0:00:01\n",
      "   ---------------------------------- ---- 180.2/203.0 MB 31.2 MB/s eta 0:00:01\n",
      "   ---------------------------------- ---- 181.8/203.0 MB 32.8 MB/s eta 0:00:01\n",
      "   ----------------------------------- --- 183.0/203.0 MB 32.7 MB/s eta 0:00:01\n",
      "   ----------------------------------- --- 184.7/203.0 MB 31.2 MB/s eta 0:00:01\n",
      "   ----------------------------------- --- 186.2/203.0 MB 31.2 MB/s eta 0:00:01\n",
      "   ------------------------------------ -- 187.8/203.0 MB 32.7 MB/s eta 0:00:01\n",
      "   ------------------------------------ -- 189.2/203.0 MB 31.2 MB/s eta 0:00:01\n",
      "   ------------------------------------ -- 190.7/203.0 MB 32.7 MB/s eta 0:00:01\n",
      "   ------------------------------------ -- 192.2/203.0 MB 31.2 MB/s eta 0:00:01\n",
      "   ------------------------------------- - 193.8/203.0 MB 32.8 MB/s eta 0:00:01\n",
      "   ------------------------------------- - 195.2/203.0 MB 34.4 MB/s eta 0:00:01\n",
      "   ------------------------------------- - 196.8/203.0 MB 32.8 MB/s eta 0:00:01\n",
      "   --------------------------------------  198.3/203.0 MB 31.2 MB/s eta 0:00:01\n",
      "   --------------------------------------  199.8/203.0 MB 31.2 MB/s eta 0:00:01\n",
      "   --------------------------------------  201.4/203.0 MB 31.2 MB/s eta 0:00:01\n",
      "   --------------------------------------  202.9/203.0 MB 31.1 MB/s eta 0:00:01\n",
      "   --------------------------------------  203.0/203.0 MB 32.7 MB/s eta 0:00:01\n",
      "   --------------------------------------  203.0/203.0 MB 32.7 MB/s eta 0:00:01\n",
      "   --------------------------------------  203.0/203.0 MB 32.7 MB/s eta 0:00:01\n",
      "   --------------------------------------  203.0/203.0 MB 32.7 MB/s eta 0:00:01\n",
      "   --------------------------------------  203.0/203.0 MB 32.7 MB/s eta 0:00:01\n",
      "   --------------------------------------  203.0/203.0 MB 32.7 MB/s eta 0:00:01\n",
      "   --------------------------------------  203.0/203.0 MB 32.7 MB/s eta 0:00:01\n",
      "   --------------------------------------  203.0/203.0 MB 32.7 MB/s eta 0:00:01\n",
      "   --------------------------------------  203.0/203.0 MB 32.7 MB/s eta 0:00:01\n",
      "   --------------------------------------  203.0/203.0 MB 32.7 MB/s eta 0:00:01\n",
      "   --------------------------------------  203.0/203.0 MB 32.7 MB/s eta 0:00:01\n",
      "   --------------------------------------  203.0/203.0 MB 32.7 MB/s eta 0:00:01\n",
      "   --------------------------------------  203.0/203.0 MB 32.7 MB/s eta 0:00:01\n",
      "   --------------------------------------  203.0/203.0 MB 32.7 MB/s eta 0:00:01\n",
      "   --------------------------------------  203.0/203.0 MB 32.7 MB/s eta 0:00:01\n",
      "   --------------------------------------  203.0/203.0 MB 32.7 MB/s eta 0:00:01\n",
      "   --------------------------------------  203.0/203.0 MB 32.7 MB/s eta 0:00:01\n",
      "   --------------------------------------  203.0/203.0 MB 32.7 MB/s eta 0:00:01\n",
      "   --------------------------------------  203.0/203.0 MB 32.7 MB/s eta 0:00:01\n",
      "   --------------------------------------  203.0/203.0 MB 32.7 MB/s eta 0:00:01\n",
      "   --------------------------------------  203.0/203.0 MB 32.7 MB/s eta 0:00:01\n",
      "   --------------------------------------  203.0/203.0 MB 32.7 MB/s eta 0:00:01\n",
      "   --------------------------------------  203.0/203.0 MB 32.7 MB/s eta 0:00:01\n",
      "   --------------------------------------  203.0/203.0 MB 32.7 MB/s eta 0:00:01\n",
      "   --------------------------------------  203.0/203.0 MB 32.7 MB/s eta 0:00:01\n",
      "   --------------------------------------  203.0/203.0 MB 32.7 MB/s eta 0:00:01\n",
      "   --------------------------------------  203.0/203.0 MB 32.7 MB/s eta 0:00:01\n",
      "   --------------------------------------  203.0/203.0 MB 32.7 MB/s eta 0:00:01\n",
      "   ---------------------------------------- 203.0/203.0 MB 3.9 MB/s eta 0:00:00\n",
      "Downloading sympy-1.13.1-py3-none-any.whl (6.2 MB)\n",
      "   ---------------------------------------- 0.0/6.2 MB ? eta -:--:--\n",
      "   -------- ------------------------------- 1.4/6.2 MB 29.2 MB/s eta 0:00:01\n",
      "   ------------------ --------------------- 2.9/6.2 MB 30.6 MB/s eta 0:00:01\n",
      "   ---------------------------- ----------- 4.4/6.2 MB 30.9 MB/s eta 0:00:01\n",
      "   ------------------------------------- -- 5.9/6.2 MB 31.3 MB/s eta 0:00:01\n",
      "   ---------------------------------------  6.2/6.2 MB 30.4 MB/s eta 0:00:01\n",
      "   ---------------------------------------- 6.2/6.2 MB 26.4 MB/s eta 0:00:00\n",
      "Downloading torchvision-0.20.1-cp312-cp312-win_amd64.whl (1.6 MB)\n",
      "   ---------------------------------------- 0.0/1.6 MB ? eta -:--:--\n",
      "   ---------------------------------------  1.6/1.6 MB 33.6 MB/s eta 0:00:01\n",
      "   ---------------------------------------- 1.6/1.6 MB 25.0 MB/s eta 0:00:00\n",
      "Downloading filelock-3.17.0-py3-none-any.whl (16 kB)\n",
      "Downloading fsspec-2024.12.0-py3-none-any.whl (183 kB)\n",
      "   ---------------------------------------- 0.0/183.9 kB ? eta -:--:--\n",
      "   --------------------------------------- 183.9/183.9 kB 10.9 MB/s eta 0:00:00\n",
      "Downloading mpmath-1.3.0-py3-none-any.whl (536 kB)\n",
      "   ---------------------------------------- 0.0/536.2 kB ? eta -:--:--\n",
      "   --------------------------------------- 536.2/536.2 kB 17.0 MB/s eta 0:00:00\n",
      "Installing collected packages: mpmath, sympy, fsspec, filelock, torch, torchvision\n",
      "Successfully installed filelock-3.17.0 fsspec-2024.12.0 mpmath-1.3.0 sympy-1.13.1 torch-2.5.1 torchvision-0.20.1\n"
     ]
    },
    {
     "name": "stderr",
     "output_type": "stream",
     "text": [
      "\n",
      "[notice] A new release of pip is available: 24.0 -> 24.3.1\n",
      "[notice] To update, run: C:\\Users\\Kai\\AppData\\Local\\Programs\\Python\\Python312\\python.exe -m pip install --upgrade pip\n"
     ]
    }
   ],
   "source": [
    "!pip install torch torchvision "
   ],
   "metadata": {
    "collapsed": false,
    "ExecuteTime": {
     "end_time": "2025-01-29T08:16:07.617201200Z",
     "start_time": "2025-01-29T08:14:16.629509500Z"
    }
   },
   "id": "98087fd50e30ef2c"
  }
 ],
 "metadata": {
  "kernelspec": {
   "display_name": "Python 3",
   "language": "python",
   "name": "python3"
  },
  "language_info": {
   "codemirror_mode": {
    "name": "ipython",
    "version": 2
   },
   "file_extension": ".py",
   "mimetype": "text/x-python",
   "name": "python",
   "nbconvert_exporter": "python",
   "pygments_lexer": "ipython2",
   "version": "2.7.6"
  }
 },
 "nbformat": 4,
 "nbformat_minor": 5
}
