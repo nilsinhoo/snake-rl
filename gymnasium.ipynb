{
 "cells": [
  {
   "cell_type": "markdown",
   "source": [
    "Das Jupyter Notebook muss mit Python >= 3.10 ausgeführt werden (getestet in 3.12)"
   ],
   "metadata": {
    "collapsed": false
   },
   "id": "7b04dca86747a3d0"
  },
  {
   "cell_type": "code",
   "execution_count": 1,
   "id": "initial_id",
   "metadata": {
    "collapsed": true,
    "ExecuteTime": {
     "end_time": "2025-01-26T13:29:27.137948600Z",
     "start_time": "2025-01-26T13:29:08.482695300Z"
    }
   },
   "outputs": [
    {
     "name": "stdout",
     "output_type": "stream",
     "text": [
      "Requirement already satisfied: gymnasium in c:\\users\\kai\\appdata\\local\\programs\\python\\python312\\lib\\site-packages (1.0.0)\n",
      "Requirement already satisfied: numpy>=1.21.0 in c:\\users\\kai\\appdata\\local\\programs\\python\\python312\\lib\\site-packages (from gymnasium) (1.26.4)\n",
      "Requirement already satisfied: cloudpickle>=1.2.0 in c:\\users\\kai\\appdata\\local\\programs\\python\\python312\\lib\\site-packages (from gymnasium) (3.1.1)\n",
      "Requirement already satisfied: typing-extensions>=4.3.0 in c:\\users\\kai\\appdata\\local\\programs\\python\\python312\\lib\\site-packages (from gymnasium) (4.12.2)\n",
      "Requirement already satisfied: farama-notifications>=0.0.1 in c:\\users\\kai\\appdata\\local\\programs\\python\\python312\\lib\\site-packages (from gymnasium) (0.0.4)\n"
     ]
    },
    {
     "name": "stderr",
     "output_type": "stream",
     "text": [
      "\n",
      "[notice] A new release of pip is available: 24.0 -> 24.3.1\n",
      "[notice] To update, run: C:\\Users\\Kai\\AppData\\Local\\Programs\\Python\\Python312\\python.exe -m pip install --upgrade pip\n"
     ]
    },
    {
     "name": "stdout",
     "output_type": "stream",
     "text": [
      "Requirement already satisfied: numpy in c:\\users\\kai\\appdata\\local\\programs\\python\\python312\\lib\\site-packages (1.26.4)\n"
     ]
    },
    {
     "name": "stderr",
     "output_type": "stream",
     "text": [
      "\n",
      "[notice] A new release of pip is available: 24.0 -> 24.3.1\n",
      "[notice] To update, run: C:\\Users\\Kai\\AppData\\Local\\Programs\\Python\\Python312\\python.exe -m pip install --upgrade pip\n"
     ]
    },
    {
     "name": "stdout",
     "output_type": "stream",
     "text": [
      "Requirement already satisfied: pygame in c:\\users\\kai\\appdata\\local\\programs\\python\\python312\\lib\\site-packages (2.6.1)\n"
     ]
    },
    {
     "name": "stderr",
     "output_type": "stream",
     "text": [
      "\n",
      "[notice] A new release of pip is available: 24.0 -> 24.3.1\n",
      "[notice] To update, run: C:\\Users\\Kai\\AppData\\Local\\Programs\\Python\\Python312\\python.exe -m pip install --upgrade pip\n"
     ]
    }
   ],
   "source": [
    "!pip install gymnasium\n",
    "!pip install numpy\n",
    "!pip install pygame # todo braucht man pygame wirklich?"
   ]
  },
  {
   "cell_type": "code",
   "execution_count": 2,
   "outputs": [
    {
     "name": "stdout",
     "output_type": "stream",
     "text": [
      "Requirement already satisfied: torch in c:\\users\\kai\\appdata\\local\\programs\\python\\python312\\lib\\site-packages (2.5.1)\n",
      "Requirement already satisfied: filelock in c:\\users\\kai\\appdata\\local\\programs\\python\\python312\\lib\\site-packages (from torch) (3.17.0)\n",
      "Requirement already satisfied: typing-extensions>=4.8.0 in c:\\users\\kai\\appdata\\local\\programs\\python\\python312\\lib\\site-packages (from torch) (4.12.2)\n",
      "Requirement already satisfied: networkx in c:\\users\\kai\\appdata\\local\\programs\\python\\python312\\lib\\site-packages (from torch) (3.3)\n",
      "Requirement already satisfied: jinja2 in c:\\users\\kai\\appdata\\local\\programs\\python\\python312\\lib\\site-packages (from torch) (3.1.4)\n",
      "Requirement already satisfied: fsspec in c:\\users\\kai\\appdata\\local\\programs\\python\\python312\\lib\\site-packages (from torch) (2024.12.0)\n",
      "Requirement already satisfied: setuptools in c:\\users\\kai\\appdata\\local\\programs\\python\\python312\\lib\\site-packages (from torch) (70.1.0)\n",
      "Requirement already satisfied: sympy==1.13.1 in c:\\users\\kai\\appdata\\local\\programs\\python\\python312\\lib\\site-packages (from torch) (1.13.1)\n",
      "Requirement already satisfied: mpmath<1.4,>=1.1.0 in c:\\users\\kai\\appdata\\local\\programs\\python\\python312\\lib\\site-packages (from sympy==1.13.1->torch) (1.3.0)\n",
      "Requirement already satisfied: MarkupSafe>=2.0 in c:\\users\\kai\\appdata\\local\\programs\\python\\python312\\lib\\site-packages (from jinja2->torch) (2.1.5)\n"
     ]
    },
    {
     "name": "stderr",
     "output_type": "stream",
     "text": [
      "\n",
      "[notice] A new release of pip is available: 24.0 -> 24.3.1\n",
      "[notice] To update, run: C:\\Users\\Kai\\AppData\\Local\\Programs\\Python\\Python312\\python.exe -m pip install --upgrade pip\n"
     ]
    }
   ],
   "source": [
    "!pip install torch"
   ],
   "metadata": {
    "collapsed": false,
    "ExecuteTime": {
     "end_time": "2025-01-29T10:02:41.643066200Z",
     "start_time": "2025-01-29T10:02:38.304568800Z"
    }
   },
   "id": "35948cf3405539a5"
  },
  {
   "cell_type": "code",
   "execution_count": 7,
   "outputs": [
    {
     "name": "stdout",
     "output_type": "stream",
     "text": [
      "2.5.1+cpu\n"
     ]
    }
   ],
   "source": [
    "import torch\n",
    "\n",
    "print(torch.__version__)"
   ],
   "metadata": {
    "collapsed": false,
    "ExecuteTime": {
     "end_time": "2025-01-29T10:02:59.123349900Z",
     "start_time": "2025-01-29T10:02:59.099817100Z"
    }
   },
   "id": "3761be06eb8e8d6c"
  },
  {
   "cell_type": "code",
   "execution_count": 2,
   "outputs": [
    {
     "name": "stderr",
     "output_type": "stream",
     "text": [
      "Cloning into 'Gymnasium_Snake_Game'...\n"
     ]
    }
   ],
   "source": [
    "!git clone https://github.com/lychanl/Gymnasium_Snake_Game"
   ],
   "metadata": {
    "collapsed": false,
    "ExecuteTime": {
     "end_time": "2025-01-26T13:30:13.356123600Z",
     "start_time": "2025-01-26T13:30:03.005838800Z"
    }
   },
   "id": "ff07923267a93c4d"
  },
  {
   "cell_type": "code",
   "execution_count": 3,
   "outputs": [],
   "source": [
    "import sys\n",
    "\n",
    "sys.path.append('./Gymnasium_Snake_Game') # python erkennt das neu angelegte Verzeichnis manchmal nicht, deswegen hier explixit laden"
   ],
   "metadata": {
    "collapsed": false,
    "ExecuteTime": {
     "end_time": "2025-01-26T10:57:51.697815800Z",
     "start_time": "2025-01-26T10:57:51.673181900Z"
    }
   },
   "id": "40de4026e7aee33a"
  },
  {
   "cell_type": "markdown",
   "source": [
    "Der Code ist von https://pytorch.org/tutorials/intermediate/reinforcement_q_learning.html"
   ],
   "metadata": {
    "collapsed": false
   },
   "id": "506602dea71ed219"
  },
  {
   "cell_type": "code",
   "execution_count": 96,
   "outputs": [],
   "source": [
    "import random\n",
    "from collections import namedtuple, deque\n",
    "\n",
    "Transition = namedtuple('Transition', ('state', 'action', 'next_state', 'reward'))\n",
    "\n",
    "class ReplayMemory(object):\n",
    "\n",
    "    def __init__(self, capacity):\n",
    "        self.memory = deque([], maxlen=capacity)\n",
    "\n",
    "    def push(self, *args):\n",
    "        \"\"\"Save a transition\"\"\"\n",
    "        self.memory.append(Transition(*args))\n",
    "\n",
    "    def sample(self, batch_size):\n",
    "        return random.sample(self.memory, batch_size)\n",
    "\n",
    "    def __len__(self):\n",
    "        return len(self.memory)"
   ],
   "metadata": {
    "collapsed": false,
    "ExecuteTime": {
     "end_time": "2025-01-29T14:41:14.491159Z",
     "start_time": "2025-01-29T14:41:14.472990300Z"
    }
   },
   "id": "29a38c55ae2923a"
  },
  {
   "cell_type": "code",
   "execution_count": 97,
   "outputs": [],
   "source": [
    "import torch.nn as nn\n",
    "import torch.nn.functional as F\n",
    "\n",
    "class DQN(nn.Module):\n",
    "\n",
    "    def __init__(self, n_observations, n_actions):\n",
    "        super(DQN, self).__init__()\n",
    "        self.layer1 = nn.Linear(n_observations, 128)\n",
    "        self.layer2 = nn.Linear(128, 128)\n",
    "        self.layer3 = nn.Linear(128, n_actions)\n",
    "\n",
    "    # Called with either one element to determine next action, or a batch\n",
    "    # during optimization. Returns tensor([[left0exp,right0exp]...]).\n",
    "    def forward(self, x):\n",
    "        # x = x.view(x.size(0), -1)  # Input flatten (batch size, höhe,breite,rgb)\n",
    "        x = F.relu(self.layer1(x))\n",
    "        x = F.relu(self.layer2(x))\n",
    "        return self.layer3(x)"
   ],
   "metadata": {
    "collapsed": false,
    "ExecuteTime": {
     "end_time": "2025-01-29T14:41:15.855303100Z",
     "start_time": "2025-01-29T14:41:15.818274500Z"
    }
   },
   "id": "36c9583e2327594d"
  },
  {
   "cell_type": "code",
   "execution_count": 103,
   "outputs": [],
   "source": [
    "def map_state_to_array(state):\n",
    "    snake_head = None\n",
    "    blocks = []\n",
    "    food = None\n",
    "    direction = [0, 1, 2, 3]\n",
    "\n",
    "    # Groesse des Spielfelds definieren\n",
    "    # height, width = state.shape[0], state.shape[1]  # (15, 15, 3)\n",
    "    height, width = state.shape[1], state.shape[2]  # (0, 15, 15, 3)\n",
    "\n",
    "    # Position aller Elemente des Spielfelds speichern\n",
    "    for y in range(height):\n",
    "        for x in range(width):\n",
    "            if state[y, x, 0] == 1:  # Snakes kopf\n",
    "                snake_head = (x, y)\n",
    "            elif state[y, x, 1] == 1:  # Bloecke\n",
    "                blocks.append((x, y))\n",
    "            elif state[y, x, 2] == 1:  # Food\n",
    "                food = (x, y)\n",
    "            # if state[0, y, x, 0] == 1:  # Snakes kopf\n",
    "            #     snake_head = (x, y)\n",
    "            # elif state[0, y, x, 1] == 1:  # Bloecke\n",
    "            #     blocks.append((x, y))\n",
    "            # elif state[0, y, x, 2] == 1:  # Food\n",
    "            #     food = (x, y)\n",
    "    \n",
    "    result = np.zeros(20)\n",
    "\n",
    "    # 1-4: Schauen, ob sich geradeaus vor dem Kopf der Schlange ein Block befindet (oder rechts, links, dahinter)\n",
    "    result[0:4] = [0] * 4\n",
    "    if snake_head:\n",
    "        for i, (dx, dy) in enumerate([(0, -1), (1, 0), (0, 1), (-1, 0)]):\n",
    "            next_x = snake_head[0] + dx\n",
    "            next_y = snake_head[1] + dy\n",
    "            if 0 <= next_x < width and 0 <= next_y < height:\n",
    "                if (next_x, next_y) in blocks:\n",
    "                    result[i] = 1\n",
    "\n",
    "    # 5-8: Schauen, ob sich rechs neben dem Kopf der Schlange ein Block befindet\n",
    "    result[4:8] = [0] * 4\n",
    "    if snake_head:\n",
    "        for i, (dx, dy) in enumerate([(0, -1), (1, 0), (0, 1), (-1, 0)]):\n",
    "            next_x = snake_head[0] + dx\n",
    "            next_y = snake_head[1] + dy\n",
    "            right_x = next_x + dy\n",
    "            right_y = next_y - dx\n",
    "            if 0 <= right_x < width and 0 <= right_y < height:\n",
    "                if (right_x, right_y) in blocks:\n",
    "                    result[4 + i] = 1\n",
    "\n",
    "    # 9-12: Schauen, ob sich links neben dem Kopf der Schlange ein Block befindet\n",
    "    result[8:12] = [0] * 4\n",
    "    if snake_head:\n",
    "        for i, (dx, dy) in enumerate([(0, -1), (1, 0), (0, 1), (-1, 0)]):\n",
    "            next_x = snake_head[0] + dx\n",
    "            next_y = snake_head[1] + dy\n",
    "            left_x = next_x - dy\n",
    "            left_y = next_y + dx\n",
    "            if 0 <= left_x < width and 0 <= left_y < height:\n",
    "                if (left_x, left_y) in blocks:\n",
    "                    result[8 + i] = 1\n",
    "\n",
    "    result[12:16] = direction\n",
    "\n",
    "    # 17-20: Position des Essens relativ zu dem Kopf der Schlange ermitteln\n",
    "    if food:\n",
    "        result[16] = 1 if food[0] < snake_head[0] else 0  # food links\n",
    "        result[17] = 1 if food[0] > snake_head[0] else 0  # food rechts\n",
    "        result[18] = 1 if food[1] < snake_head[1] else 0  # food oben\n",
    "        result[19] = 1 if food[1] > snake_head[1] else 0  # food unten\n",
    "\n",
    "    return result"
   ],
   "metadata": {
    "collapsed": false,
    "ExecuteTime": {
     "end_time": "2025-01-29T14:48:22.789521500Z",
     "start_time": "2025-01-29T14:48:22.746210400Z"
    }
   },
   "id": "fe3cdd0b8aedb4c0"
  },
  {
   "cell_type": "code",
   "execution_count": 99,
   "outputs": [],
   "source": [
    "import gymnasium_snake_game\n",
    "import gymnasium\n",
    "import numpy as np\n",
    "import math\n",
    "import matplotlib\n",
    "import matplotlib.pyplot as plt\n",
    "\n",
    "from IPython import display\n",
    "\n",
    "import torch\n",
    "import torch.optim as optim\n",
    "\n",
    "# BATCH_SIZE is the number of transitions sampled from the replay buffer\n",
    "# GAMMA is the discount factor as mentioned in the previous section\n",
    "# EPS_START is the starting value of epsilon\n",
    "# EPS_END is the final value of epsilon\n",
    "# EPS_DECAY controls the rate of exponential decay of epsilon, higher means a slower decay\n",
    "# TAU is the update rate of the target network\n",
    "# LR is the learning rate of the ``AdamW`` optimizer\n",
    "BATCH_SIZE = 128\n",
    "GAMMA = 0.99\n",
    "EPS_START = 0.9\n",
    "EPS_END = 0.05\n",
    "EPS_DECAY = 1000\n",
    "TAU = 0.005\n",
    "LR = 1e-4\n",
    "\n",
    "# Falls das Jupyter Notebook \n",
    "device = torch.device(\n",
    "    \"cuda\" if torch.cuda.is_available() else\n",
    "    \"mps\" if torch.backends.mps.is_available() else\n",
    "    \"cpu\"\n",
    ")\n",
    "\n",
    "\n",
    "options = {\n",
    "    'fps': 30,\n",
    "    'max_step': 1500,\n",
    "    'init_length': 4,\n",
    "    'food_reward': 40.0,\n",
    "    'dist_reward': 10.0, # je naeher die Schlange am Essen ist (euklidische Distanz von Schlange zum essen)\n",
    "    'living_bonus': 0.1,\n",
    "    'death_penalty': -50.0,\n",
    "    'width': 15,\n",
    "    'height': 15,\n",
    "}\n",
    "\n",
    "env = gymnasium.make('Snake-v1', render_mode='human', **options)\n",
    "\n",
    "\n",
    "# env.reset() # braucht man nicht!?\n",
    "\n",
    "\n",
    "# Get number of actions from gym action space\n",
    "n_actions = env.action_space.n\n",
    "# Get the number of state observations\n",
    "state, info = env.reset()\n",
    "state = map_state_to_array(state)\n",
    "n_observations = len(state)\n",
    "\n",
    "\n",
    "# n_observations = 40 * 40 * 3 # höhe, breite, rgb farben\n",
    "# n_observations = state.shape[0] * state.shape[1] * state.shape[2]\n",
    "\n",
    "policy_net = DQN(n_observations, n_actions).to(device)\n",
    "target_net = DQN(n_observations, n_actions).to(device)\n",
    "target_net.load_state_dict(policy_net.state_dict())\n",
    "\n",
    "optimizer = optim.AdamW(policy_net.parameters(), lr=LR, amsgrad=True)\n",
    "memory = ReplayMemory(10000)\n",
    "\n",
    "\n",
    "steps_done = 0\n",
    "\n",
    "\n",
    "def select_action(state):\n",
    "    global steps_done\n",
    "    sample = random.random()\n",
    "    \n",
    "    eps_threshold = EPS_END + (EPS_START - EPS_END) * math.exp(-1. * steps_done / EPS_DECAY)\n",
    "    steps_done += 1\n",
    "    if sample > eps_threshold:\n",
    "        with torch.no_grad():\n",
    "            # t.max(1) will return the largest column value of each row.\n",
    "            # second column on max result is index of where max element was\n",
    "            # found, so we pick action with the larger expected reward.\n",
    "            # return policy_net(state).max(1).indices.view(1, 1)\n",
    "            return policy_net(state).argmax(dim=1).view(1, 1)\n",
    "    else:\n",
    "        # return torch.tensor([[env.action_space.sample()]], device=device, dtype=torch.long)\n",
    "        return torch.tensor([[random.randint(0, 3)]], device=device, dtype=torch.long)\n",
    "\n",
    "episode_scores = []\n",
    "\n",
    "\n",
    "def plot_scores(show_result=False):\n",
    "    plt.figure(1)\n",
    "    scores_t = torch.tensor(episode_scores, dtype=torch.float)\n",
    "    if show_result:\n",
    "        plt.title('Result')\n",
    "    else:\n",
    "        plt.clf()\n",
    "        plt.title('Training...')\n",
    "    plt.xlabel('Episode')\n",
    "    plt.ylabel('Score')\n",
    "    plt.plot(scores_t.numpy())\n",
    "    # Take 100 episode averages and plot them too\n",
    "    if len(scores_t) >= 100:\n",
    "        means = scores_t.unfold(0, 100, 1).mean(1).view(-1)\n",
    "        means = torch.cat((torch.zeros(99), means))\n",
    "        plt.plot(means.numpy())\n",
    "\n",
    "    plt.pause(0.001)  # pause a bit so that plots are updated\n",
    "    display.display(plt.gcf())\n",
    "    display.clear_output(wait=True)"
   ],
   "metadata": {
    "collapsed": false,
    "ExecuteTime": {
     "end_time": "2025-01-29T14:41:18.985490100Z",
     "start_time": "2025-01-29T14:41:18.914103800Z"
    }
   },
   "id": "6acf3af55760c55e"
  },
  {
   "cell_type": "code",
   "execution_count": 100,
   "outputs": [],
   "source": [
    "def optimize_model():\n",
    "    if len(memory) < BATCH_SIZE:\n",
    "        return\n",
    "    transitions = memory.sample(BATCH_SIZE)\n",
    "    # Transpose the batch (see https://stackoverflow.com/a/19343/3343043 for\n",
    "    # detailed explanation). This converts batch-array of Transitions\n",
    "    # to Transition of batch-arrays.\n",
    "    batch = Transition(*zip(*transitions))\n",
    "\n",
    "    # Compute a mask of non-final states and concatenate the batch elements\n",
    "    # (a final state would've been the one after which simulation ended)    \n",
    "    non_final_mask = torch.tensor(tuple(map(lambda s: s is not None,\n",
    "                                          batch.next_state)), device=device, dtype=torch.bool)\n",
    "    print(batch.next_state)\n",
    "    non_final_next_states = torch.cat([s for s in batch.next_state\n",
    "                                                if s is not None])\n",
    "    state_batch = torch.cat(batch.state)\n",
    "    action_batch = torch.cat(batch.action)\n",
    "    reward_batch = torch.cat(batch.reward)\n",
    "\n",
    "    # Compute Q(s_t, a) - the model computes Q(s_t), then we select the\n",
    "    # columns of actions taken. These are the actions which would've been taken\n",
    "    # for each batch state according to policy_net\n",
    "    state_action_values = policy_net(state_batch).gather(1, action_batch)\n",
    "\n",
    "    # Compute V(s_{t+1}) for all next states.\n",
    "    # Expected values of actions for non_final_next_states are computed based\n",
    "    # on the \"older\" target_net; selecting their best reward with max(1).values\n",
    "    # This is merged based on the mask, such that we'll have either the expected\n",
    "    # state value or 0 in case the state was final.\n",
    "    next_state_values = torch.zeros(BATCH_SIZE, device=device)\n",
    "    with torch.no_grad():\n",
    "        next_state_values[non_final_mask] = target_net(non_final_next_states).max(1).values\n",
    "    # Compute the expected Q values\n",
    "    expected_state_action_values = (next_state_values * GAMMA) + reward_batch\n",
    "\n",
    "    # Compute Huber loss\n",
    "    criterion = nn.SmoothL1Loss()\n",
    "    loss = criterion(state_action_values, expected_state_action_values.unsqueeze(1))\n",
    "\n",
    "    # Optimize the model\n",
    "    optimizer.zero_grad()\n",
    "    loss.backward()\n",
    "    # In-place gradient clipping\n",
    "    torch.nn.utils.clip_grad_value_(policy_net.parameters(), 100)\n",
    "    optimizer.step()"
   ],
   "metadata": {
    "collapsed": false,
    "ExecuteTime": {
     "end_time": "2025-01-29T14:41:20.898557800Z",
     "start_time": "2025-01-29T14:41:20.869230Z"
    }
   },
   "id": "f0c2f10dcdc750a0"
  },
  {
   "cell_type": "code",
   "execution_count": 102,
   "outputs": [
    {
     "ename": "KeyboardInterrupt",
     "evalue": "",
     "output_type": "error",
     "traceback": [
      "\u001B[1;31m---------------------------------------------------------------------------\u001B[0m",
      "\u001B[1;31mKeyboardInterrupt\u001B[0m                         Traceback (most recent call last)",
      "Cell \u001B[1;32mIn[102], line 17\u001B[0m\n\u001B[0;32m     15\u001B[0m \u001B[38;5;28;01mfor\u001B[39;00m t \u001B[38;5;129;01min\u001B[39;00m count():\n\u001B[0;32m     16\u001B[0m     action \u001B[38;5;241m=\u001B[39m select_action(state)\n\u001B[1;32m---> 17\u001B[0m     observation, reward, terminated, truncated, _ \u001B[38;5;241m=\u001B[39m \u001B[43menv\u001B[49m\u001B[38;5;241;43m.\u001B[39;49m\u001B[43mstep\u001B[49m\u001B[43m(\u001B[49m\u001B[43maction\u001B[49m\u001B[38;5;241;43m.\u001B[39;49m\u001B[43mitem\u001B[49m\u001B[43m(\u001B[49m\u001B[43m)\u001B[49m\u001B[43m)\u001B[49m\n\u001B[0;32m     18\u001B[0m     \u001B[38;5;66;03m# observation returned ein Array (15,15,3) (höhe,breite, (1=Sneak Head, 2=Blocks, 3=Food))\u001B[39;00m\n\u001B[0;32m     19\u001B[0m     score \u001B[38;5;241m+\u001B[39m\u001B[38;5;241m=\u001B[39m reward\n",
      "File \u001B[1;32m~\\AppData\\Local\\Programs\\Python\\Python312\\Lib\\site-packages\\gymnasium\\wrappers\\common.py:393\u001B[0m, in \u001B[0;36mOrderEnforcing.step\u001B[1;34m(self, action)\u001B[0m\n\u001B[0;32m    391\u001B[0m \u001B[38;5;28;01mif\u001B[39;00m \u001B[38;5;129;01mnot\u001B[39;00m \u001B[38;5;28mself\u001B[39m\u001B[38;5;241m.\u001B[39m_has_reset:\n\u001B[0;32m    392\u001B[0m     \u001B[38;5;28;01mraise\u001B[39;00m ResetNeeded(\u001B[38;5;124m\"\u001B[39m\u001B[38;5;124mCannot call env.step() before calling env.reset()\u001B[39m\u001B[38;5;124m\"\u001B[39m)\n\u001B[1;32m--> 393\u001B[0m \u001B[38;5;28;01mreturn\u001B[39;00m \u001B[38;5;28;43msuper\u001B[39;49m\u001B[43m(\u001B[49m\u001B[43m)\u001B[49m\u001B[38;5;241;43m.\u001B[39;49m\u001B[43mstep\u001B[49m\u001B[43m(\u001B[49m\u001B[43maction\u001B[49m\u001B[43m)\u001B[49m\n",
      "File \u001B[1;32m~\\AppData\\Local\\Programs\\Python\\Python312\\Lib\\site-packages\\gymnasium\\core.py:322\u001B[0m, in \u001B[0;36mWrapper.step\u001B[1;34m(self, action)\u001B[0m\n\u001B[0;32m    318\u001B[0m \u001B[38;5;28;01mdef\u001B[39;00m \u001B[38;5;21mstep\u001B[39m(\n\u001B[0;32m    319\u001B[0m     \u001B[38;5;28mself\u001B[39m, action: WrapperActType\n\u001B[0;32m    320\u001B[0m ) \u001B[38;5;241m-\u001B[39m\u001B[38;5;241m>\u001B[39m \u001B[38;5;28mtuple\u001B[39m[WrapperObsType, SupportsFloat, \u001B[38;5;28mbool\u001B[39m, \u001B[38;5;28mbool\u001B[39m, \u001B[38;5;28mdict\u001B[39m[\u001B[38;5;28mstr\u001B[39m, Any]]:\n\u001B[0;32m    321\u001B[0m \u001B[38;5;250m    \u001B[39m\u001B[38;5;124;03m\"\"\"Uses the :meth:`step` of the :attr:`env` that can be overwritten to change the returned data.\"\"\"\u001B[39;00m\n\u001B[1;32m--> 322\u001B[0m     \u001B[38;5;28;01mreturn\u001B[39;00m \u001B[38;5;28;43mself\u001B[39;49m\u001B[38;5;241;43m.\u001B[39;49m\u001B[43menv\u001B[49m\u001B[38;5;241;43m.\u001B[39;49m\u001B[43mstep\u001B[49m\u001B[43m(\u001B[49m\u001B[43maction\u001B[49m\u001B[43m)\u001B[49m\n",
      "File \u001B[1;32m~\\AppData\\Local\\Programs\\Python\\Python312\\Lib\\site-packages\\gymnasium\\wrappers\\common.py:285\u001B[0m, in \u001B[0;36mPassiveEnvChecker.step\u001B[1;34m(self, action)\u001B[0m\n\u001B[0;32m    283\u001B[0m     \u001B[38;5;28;01mreturn\u001B[39;00m env_step_passive_checker(\u001B[38;5;28mself\u001B[39m\u001B[38;5;241m.\u001B[39menv, action)\n\u001B[0;32m    284\u001B[0m \u001B[38;5;28;01melse\u001B[39;00m:\n\u001B[1;32m--> 285\u001B[0m     \u001B[38;5;28;01mreturn\u001B[39;00m \u001B[38;5;28;43mself\u001B[39;49m\u001B[38;5;241;43m.\u001B[39;49m\u001B[43menv\u001B[49m\u001B[38;5;241;43m.\u001B[39;49m\u001B[43mstep\u001B[49m\u001B[43m(\u001B[49m\u001B[43maction\u001B[49m\u001B[43m)\u001B[49m\n",
      "File \u001B[1;32m~\\AppData\\Local\\Programs\\Python\\Python312\\Lib\\site-packages\\gymnasium_snake_game\\environment\\snake_env.py:25\u001B[0m, in \u001B[0;36mSnakeEnv.step\u001B[1;34m(self, action)\u001B[0m\n\u001B[0;32m     23\u001B[0m s, r, d, t \u001B[38;5;241m=\u001B[39m \u001B[38;5;28mself\u001B[39m\u001B[38;5;241m.\u001B[39msnake\u001B[38;5;241m.\u001B[39mstep(action)\n\u001B[0;32m     24\u001B[0m \u001B[38;5;28;01mif\u001B[39;00m \u001B[38;5;28mself\u001B[39m\u001B[38;5;241m.\u001B[39mrender_mode \u001B[38;5;241m==\u001B[39m \u001B[38;5;124m\"\u001B[39m\u001B[38;5;124mhuman\u001B[39m\u001B[38;5;124m\"\u001B[39m:\n\u001B[1;32m---> 25\u001B[0m     \u001B[38;5;28;43mself\u001B[39;49m\u001B[38;5;241;43m.\u001B[39;49m\u001B[43m_render_frame\u001B[49m\u001B[43m(\u001B[49m\u001B[43m)\u001B[49m\n\u001B[0;32m     26\u001B[0m \u001B[38;5;28;01mreturn\u001B[39;00m s, r, d, t, \u001B[38;5;28mself\u001B[39m\u001B[38;5;241m.\u001B[39m_get_info()\n",
      "File \u001B[1;32m~\\AppData\\Local\\Programs\\Python\\Python312\\Lib\\site-packages\\gymnasium_snake_game\\environment\\snake_env.py:35\u001B[0m, in \u001B[0;36mSnakeEnv._render_frame\u001B[1;34m(self)\u001B[0m\n\u001B[0;32m     34\u001B[0m \u001B[38;5;28;01mdef\u001B[39;00m \u001B[38;5;21m_render_frame\u001B[39m(\u001B[38;5;28mself\u001B[39m):\n\u001B[1;32m---> 35\u001B[0m     \u001B[38;5;28;43mself\u001B[39;49m\u001B[38;5;241;43m.\u001B[39;49m\u001B[43msnake\u001B[49m\u001B[38;5;241;43m.\u001B[39;49m\u001B[43mrender\u001B[49m\u001B[43m(\u001B[49m\u001B[43m)\u001B[49m\n",
      "File \u001B[1;32m~\\AppData\\Local\\Programs\\Python\\Python312\\Lib\\site-packages\\gymnasium_snake_game\\environment\\core.py:68\u001B[0m, in \u001B[0;36mSnake.render\u001B[1;34m(self)\u001B[0m\n\u001B[0;32m     65\u001B[0m     \u001B[38;5;28mself\u001B[39m\u001B[38;5;241m.\u001B[39mscreen, \u001B[38;5;28mself\u001B[39m\u001B[38;5;241m.\u001B[39mclock \u001B[38;5;241m=\u001B[39m game_start(\n\u001B[0;32m     66\u001B[0m         \u001B[38;5;28mself\u001B[39m\u001B[38;5;241m.\u001B[39mblocks_x\u001B[38;5;241m*\u001B[39mBlock\u001B[38;5;241m.\u001B[39msize, \u001B[38;5;28mself\u001B[39m\u001B[38;5;241m.\u001B[39mblocks_y\u001B[38;5;241m*\u001B[39mBlock\u001B[38;5;241m.\u001B[39msize)\n\u001B[0;32m     67\u001B[0m \u001B[38;5;28mself\u001B[39m\u001B[38;5;241m.\u001B[39mclock\u001B[38;5;241m.\u001B[39mtick(\u001B[38;5;28mself\u001B[39m\u001B[38;5;241m.\u001B[39mfps)\n\u001B[1;32m---> 68\u001B[0m \u001B[43mupdate_screen\u001B[49m\u001B[43m(\u001B[49m\u001B[38;5;28;43mself\u001B[39;49m\u001B[38;5;241;43m.\u001B[39;49m\u001B[43mscreen\u001B[49m\u001B[43m,\u001B[49m\u001B[43m \u001B[49m\u001B[38;5;28;43mself\u001B[39;49m\u001B[43m)\u001B[49m\n\u001B[0;32m     69\u001B[0m handle_input()\n",
      "File \u001B[1;32m~\\AppData\\Local\\Programs\\Python\\Python312\\Lib\\site-packages\\gymnasium_snake_game\\environment\\utils.py:121\u001B[0m, in \u001B[0;36mupdate_screen\u001B[1;34m(screen, snake, human_playing)\u001B[0m\n\u001B[0;32m    119\u001B[0m width \u001B[38;5;241m=\u001B[39m screen\u001B[38;5;241m.\u001B[39mget_width()\n\u001B[0;32m    120\u001B[0m height \u001B[38;5;241m=\u001B[39m screen\u001B[38;5;241m.\u001B[39mget_height() \u001B[38;5;241m-\u001B[39m \u001B[38;5;241m40\u001B[39m\n\u001B[1;32m--> 121\u001B[0m font \u001B[38;5;241m=\u001B[39m \u001B[43mpygame\u001B[49m\u001B[38;5;241;43m.\u001B[39;49m\u001B[43mfont\u001B[49m\u001B[38;5;241;43m.\u001B[39;49m\u001B[43mSysFont\u001B[49m\u001B[43m(\u001B[49m\u001B[38;5;124;43m'\u001B[39;49m\u001B[38;5;124;43mmicrosoft Yahei\u001B[39;49m\u001B[38;5;124;43m'\u001B[39;49m\u001B[43m,\u001B[49m\u001B[43m \u001B[49m\u001B[38;5;241;43m30\u001B[39;49m\u001B[43m,\u001B[49m\u001B[43m \u001B[49m\u001B[38;5;28;43;01mTrue\u001B[39;49;00m\u001B[43m)\u001B[49m\n\u001B[0;32m    122\u001B[0m score \u001B[38;5;241m=\u001B[39m font\u001B[38;5;241m.\u001B[39mrender(\u001B[38;5;124m'\u001B[39m\u001B[38;5;124mScores: \u001B[39m\u001B[38;5;124m'\u001B[39m\u001B[38;5;241m+\u001B[39m\u001B[38;5;28mstr\u001B[39m(snake\u001B[38;5;241m.\u001B[39mscore), \u001B[38;5;28;01mFalse\u001B[39;00m, Color\u001B[38;5;241m.\u001B[39mpurple)\n\u001B[0;32m    123\u001B[0m episode \u001B[38;5;241m=\u001B[39m font\u001B[38;5;241m.\u001B[39mrender(\u001B[38;5;124m'\u001B[39m\u001B[38;5;124mEpisodes: \u001B[39m\u001B[38;5;124m'\u001B[39m\u001B[38;5;241m+\u001B[39m\u001B[38;5;28mstr\u001B[39m(snake\u001B[38;5;241m.\u001B[39mepisode), \u001B[38;5;28;01mFalse\u001B[39;00m, Color\u001B[38;5;241m.\u001B[39mpurple)\n",
      "File \u001B[1;32m~\\AppData\\Local\\Programs\\Python\\Python312\\Lib\\site-packages\\pygame\\sysfont.py:460\u001B[0m, in \u001B[0;36mSysFont\u001B[1;34m(name, size, bold, italic, constructor)\u001B[0m\n\u001B[0;32m    457\u001B[0m \u001B[38;5;28;01mif\u001B[39;00m italic \u001B[38;5;129;01mand\u001B[39;00m \u001B[38;5;129;01mnot\u001B[39;00m gotitalic:\n\u001B[0;32m    458\u001B[0m     set_italic \u001B[38;5;241m=\u001B[39m \u001B[38;5;28;01mTrue\u001B[39;00m\n\u001B[1;32m--> 460\u001B[0m \u001B[38;5;28;01mreturn\u001B[39;00m \u001B[43mconstructor\u001B[49m\u001B[43m(\u001B[49m\u001B[43mfontname\u001B[49m\u001B[43m,\u001B[49m\u001B[43m \u001B[49m\u001B[43msize\u001B[49m\u001B[43m,\u001B[49m\u001B[43m \u001B[49m\u001B[43mset_bold\u001B[49m\u001B[43m,\u001B[49m\u001B[43m \u001B[49m\u001B[43mset_italic\u001B[49m\u001B[43m)\u001B[49m\n",
      "File \u001B[1;32m~\\AppData\\Local\\Programs\\Python\\Python312\\Lib\\site-packages\\pygame\\sysfont.py:378\u001B[0m, in \u001B[0;36mfont_constructor\u001B[1;34m(fontpath, size, bold, italic)\u001B[0m\n\u001B[0;32m    366\u001B[0m \u001B[38;5;28;01mdef\u001B[39;00m \u001B[38;5;21mfont_constructor\u001B[39m(fontpath, size, bold, italic):\n\u001B[0;32m    367\u001B[0m \u001B[38;5;250m    \u001B[39m\u001B[38;5;124;03m\"\"\"\u001B[39;00m\n\u001B[0;32m    368\u001B[0m \u001B[38;5;124;03m    pygame.font specific declarations\u001B[39;00m\n\u001B[0;32m    369\u001B[0m \n\u001B[1;32m   (...)\u001B[0m\n\u001B[0;32m    375\u001B[0m \u001B[38;5;124;03m    :return: A font.Font object.\u001B[39;00m\n\u001B[0;32m    376\u001B[0m \u001B[38;5;124;03m    \"\"\"\u001B[39;00m\n\u001B[1;32m--> 378\u001B[0m     font \u001B[38;5;241m=\u001B[39m \u001B[43mFont\u001B[49m\u001B[43m(\u001B[49m\u001B[43mfontpath\u001B[49m\u001B[43m,\u001B[49m\u001B[43m \u001B[49m\u001B[43msize\u001B[49m\u001B[43m)\u001B[49m\n\u001B[0;32m    379\u001B[0m     \u001B[38;5;28;01mif\u001B[39;00m bold:\n\u001B[0;32m    380\u001B[0m         font\u001B[38;5;241m.\u001B[39mset_bold(\u001B[38;5;28;01mTrue\u001B[39;00m)\n",
      "\u001B[1;31mKeyboardInterrupt\u001B[0m: "
     ]
    },
    {
     "data": {
      "text/plain": "<Figure size 640x480 with 0 Axes>"
     },
     "metadata": {},
     "output_type": "display_data"
    }
   ],
   "source": [
    "from itertools import count\n",
    "\n",
    "# if torch.cuda.is_available() or torch.backends.mps.is_available():\n",
    "#     num_episodes = 600\n",
    "# else:\n",
    "#     num_episodes = 50\n",
    "num_episodes = 5000\n",
    "\n",
    "for i_episode in range(num_episodes):\n",
    "    # Initialize the environment and get its state\n",
    "    state, info = env.reset()\n",
    "    state = map_state_to_array(state)\n",
    "    state = torch.tensor(state, dtype=torch.float32, device=device).unsqueeze(0)\n",
    "    score = 0  # Score der Snake zu Beginn\n",
    "    for t in count():\n",
    "        action = select_action(state)\n",
    "        observation, reward, terminated, truncated, _ = env.step(action.item())\n",
    "        # observation returned ein Array (15,15,3) (höhe,breite, (1=Sneak Head, 2=Blocks, 3=Food))\n",
    "        score += reward\n",
    "        reward = torch.tensor([reward], device=device)\n",
    "        done = terminated or truncated\n",
    "\n",
    "        if terminated:\n",
    "            next_state = None\n",
    "        else:\n",
    "            new_observation = map_state_to_array(observation)\n",
    "            next_state = torch.tensor(new_observation, dtype=torch.float32, device=device).unsqueeze(0)\n",
    "\n",
    "        # Store the transition in memory\n",
    "        # next_state = map_state_to_array(next_state)\n",
    "        memory.push(state, action, next_state, reward)\n",
    "\n",
    "        # Move to the next state\n",
    "        state = next_state\n",
    "\n",
    "        # Perform one step of the optimization (on the policy network)\n",
    "        # optimize_model() # todo\n",
    "\n",
    "        # Soft update of the target network's weights\n",
    "        # θ′ ← τ θ + (1 −τ )θ′\n",
    "        target_net_state_dict = target_net.state_dict()\n",
    "        policy_net_state_dict = policy_net.state_dict()\n",
    "        for key in policy_net_state_dict:\n",
    "            target_net_state_dict[key] = policy_net_state_dict[key]*TAU + target_net_state_dict[key]*(1-TAU)\n",
    "        target_net.load_state_dict(target_net_state_dict)\n",
    "\n",
    "        if done:\n",
    "            episode_scores.append(score)\n",
    "            plot_scores()\n",
    "            break\n",
    "\n",
    "print('Complete')\n",
    "plot_scores(show_result=True)\n",
    "plt.ioff()\n",
    "plt.show()"
   ],
   "metadata": {
    "collapsed": false
   },
   "id": "d68bd0b3d7f84d4b"
  },
  {
   "cell_type": "code",
   "execution_count": 1,
   "outputs": [
    {
     "name": "stdout",
     "output_type": "stream",
     "text": [
      "Collecting torch\n",
      "  Downloading torch-2.5.1-cp312-cp312-win_amd64.whl.metadata (28 kB)\n",
      "Collecting torchvision\n",
      "  Downloading torchvision-0.20.1-cp312-cp312-win_amd64.whl.metadata (6.2 kB)\n",
      "Collecting filelock (from torch)\n",
      "  Downloading filelock-3.17.0-py3-none-any.whl.metadata (2.9 kB)\n",
      "Requirement already satisfied: typing-extensions>=4.8.0 in c:\\users\\kai\\appdata\\local\\programs\\python\\python312\\lib\\site-packages (from torch) (4.12.2)\n",
      "Requirement already satisfied: networkx in c:\\users\\kai\\appdata\\local\\programs\\python\\python312\\lib\\site-packages (from torch) (3.3)\n",
      "Requirement already satisfied: jinja2 in c:\\users\\kai\\appdata\\local\\programs\\python\\python312\\lib\\site-packages (from torch) (3.1.4)\n",
      "Collecting fsspec (from torch)\n",
      "  Downloading fsspec-2024.12.0-py3-none-any.whl.metadata (11 kB)\n",
      "Requirement already satisfied: setuptools in c:\\users\\kai\\appdata\\local\\programs\\python\\python312\\lib\\site-packages (from torch) (70.1.0)\n",
      "Collecting sympy==1.13.1 (from torch)\n",
      "  Downloading sympy-1.13.1-py3-none-any.whl.metadata (12 kB)\n",
      "Collecting mpmath<1.4,>=1.1.0 (from sympy==1.13.1->torch)\n",
      "  Downloading mpmath-1.3.0-py3-none-any.whl.metadata (8.6 kB)\n",
      "Requirement already satisfied: numpy in c:\\users\\kai\\appdata\\local\\programs\\python\\python312\\lib\\site-packages (from torchvision) (1.26.4)\n",
      "Requirement already satisfied: pillow!=8.3.*,>=5.3.0 in c:\\users\\kai\\appdata\\local\\programs\\python\\python312\\lib\\site-packages (from torchvision) (10.3.0)\n",
      "Requirement already satisfied: MarkupSafe>=2.0 in c:\\users\\kai\\appdata\\local\\programs\\python\\python312\\lib\\site-packages (from jinja2->torch) (2.1.5)\n",
      "Downloading torch-2.5.1-cp312-cp312-win_amd64.whl (203.0 MB)\n",
      "   ---------------------------------------- 0.0/203.0 MB ? eta -:--:--\n",
      "   ---------------------------------------- 0.1/203.0 MB 2.0 MB/s eta 0:01:43\n",
      "   ---------------------------------------- 0.4/203.0 MB 5.0 MB/s eta 0:00:41\n",
      "   ---------------------------------------- 1.4/203.0 MB 9.9 MB/s eta 0:00:21\n",
      "    --------------------------------------- 2.9/203.0 MB 15.5 MB/s eta 0:00:13\n",
      "    --------------------------------------- 4.1/203.0 MB 18.8 MB/s eta 0:00:11\n",
      "    --------------------------------------- 4.1/203.0 MB 18.8 MB/s eta 0:00:11\n",
      "   - -------------------------------------- 6.1/203.0 MB 18.5 MB/s eta 0:00:11\n",
      "   - -------------------------------------- 8.2/203.0 MB 21.9 MB/s eta 0:00:09\n",
      "   - -------------------------------------- 9.0/203.0 MB 21.2 MB/s eta 0:00:10\n",
      "   -- ------------------------------------- 12.0/203.0 MB 32.7 MB/s eta 0:00:06\n",
      "   -- ------------------------------------- 13.6/203.0 MB 32.7 MB/s eta 0:00:06\n",
      "   -- ------------------------------------- 15.1/203.0 MB 38.5 MB/s eta 0:00:05\n",
      "   --- ------------------------------------ 16.6/203.0 MB 36.4 MB/s eta 0:00:06\n",
      "   --- ------------------------------------ 18.1/203.0 MB 36.4 MB/s eta 0:00:06\n",
      "   --- ------------------------------------ 19.6/203.0 MB 36.4 MB/s eta 0:00:06\n",
      "   ---- ----------------------------------- 21.1/203.0 MB 32.8 MB/s eta 0:00:06\n",
      "   ---- ----------------------------------- 22.6/203.0 MB 31.2 MB/s eta 0:00:06\n",
      "   ---- ----------------------------------- 24.1/203.0 MB 31.2 MB/s eta 0:00:06\n",
      "   ---- ----------------------------------- 25.2/203.0 MB 31.2 MB/s eta 0:00:06\n",
      "   ----- ---------------------------------- 27.1/203.0 MB 31.1 MB/s eta 0:00:06\n",
      "   ----- ---------------------------------- 28.6/203.0 MB 32.8 MB/s eta 0:00:06\n",
      "   ----- ---------------------------------- 30.1/203.0 MB 32.8 MB/s eta 0:00:06\n",
      "   ------ --------------------------------- 31.6/203.0 MB 31.2 MB/s eta 0:00:06\n",
      "   ------ --------------------------------- 33.2/203.0 MB 31.2 MB/s eta 0:00:06\n",
      "   ------ --------------------------------- 34.7/203.0 MB 31.2 MB/s eta 0:00:06\n",
      "   ------- -------------------------------- 36.1/203.0 MB 31.2 MB/s eta 0:00:06\n",
      "   ------- -------------------------------- 37.7/203.0 MB 31.2 MB/s eta 0:00:06\n",
      "   ------- -------------------------------- 39.2/203.0 MB 31.1 MB/s eta 0:00:06\n",
      "   -------- ------------------------------- 40.7/203.0 MB 31.2 MB/s eta 0:00:06\n",
      "   -------- ------------------------------- 42.2/203.0 MB 31.2 MB/s eta 0:00:06\n",
      "   -------- ------------------------------- 43.7/203.0 MB 31.2 MB/s eta 0:00:06\n",
      "   -------- ------------------------------- 45.2/203.0 MB 32.8 MB/s eta 0:00:05\n",
      "   --------- ------------------------------ 46.7/203.0 MB 31.2 MB/s eta 0:00:06\n",
      "   --------- ------------------------------ 48.3/203.0 MB 31.2 MB/s eta 0:00:05\n",
      "   --------- ------------------------------ 49.8/203.0 MB 32.7 MB/s eta 0:00:05\n",
      "   ---------- ----------------------------- 51.3/203.0 MB 31.1 MB/s eta 0:00:05\n",
      "   ---------- ----------------------------- 52.3/203.0 MB 31.2 MB/s eta 0:00:05\n",
      "   ---------- ----------------------------- 54.3/203.0 MB 31.2 MB/s eta 0:00:05\n",
      "   ---------- ----------------------------- 55.8/203.0 MB 34.4 MB/s eta 0:00:05\n",
      "   ----------- ---------------------------- 57.3/203.0 MB 32.8 MB/s eta 0:00:05\n",
      "   ----------- ---------------------------- 58.8/203.0 MB 32.8 MB/s eta 0:00:05\n",
      "   ----------- ---------------------------- 60.3/203.0 MB 32.8 MB/s eta 0:00:05\n",
      "   ------------ --------------------------- 61.8/203.0 MB 32.8 MB/s eta 0:00:05\n",
      "   ------------ --------------------------- 63.4/203.0 MB 32.7 MB/s eta 0:00:05\n",
      "   ------------ --------------------------- 64.9/203.0 MB 32.8 MB/s eta 0:00:05\n",
      "   ------------- -------------------------- 66.3/203.0 MB 32.7 MB/s eta 0:00:05\n",
      "   ------------- -------------------------- 68.0/203.0 MB 31.2 MB/s eta 0:00:05\n",
      "   ------------- -------------------------- 69.4/203.0 MB 31.2 MB/s eta 0:00:05\n",
      "   ------------- -------------------------- 71.0/203.0 MB 31.2 MB/s eta 0:00:05\n",
      "   -------------- ------------------------- 72.5/203.0 MB 31.2 MB/s eta 0:00:05\n",
      "   -------------- ------------------------- 73.9/203.0 MB 32.8 MB/s eta 0:00:04\n",
      "   -------------- ------------------------- 75.4/203.0 MB 32.7 MB/s eta 0:00:04\n",
      "   --------------- ------------------------ 77.0/203.0 MB 32.7 MB/s eta 0:00:04\n",
      "   --------------- ------------------------ 78.5/203.0 MB 31.2 MB/s eta 0:00:04\n",
      "   --------------- ------------------------ 80.1/203.0 MB 31.2 MB/s eta 0:00:04\n",
      "   ---------------- ----------------------- 81.6/203.0 MB 31.2 MB/s eta 0:00:04\n",
      "   ---------------- ----------------------- 83.1/203.0 MB 31.2 MB/s eta 0:00:04\n",
      "   ---------------- ----------------------- 84.6/203.0 MB 31.2 MB/s eta 0:00:04\n",
      "   ---------------- ----------------------- 86.0/203.0 MB 32.8 MB/s eta 0:00:04\n",
      "   ----------------- ---------------------- 87.6/203.0 MB 32.7 MB/s eta 0:00:04\n",
      "   ----------------- ---------------------- 89.1/203.0 MB 32.7 MB/s eta 0:00:04\n",
      "   ----------------- ---------------------- 90.6/203.0 MB 32.7 MB/s eta 0:00:04\n",
      "   ------------------ --------------------- 92.1/203.0 MB 32.7 MB/s eta 0:00:04\n",
      "   ------------------ --------------------- 93.6/203.0 MB 32.8 MB/s eta 0:00:04\n",
      "   ------------------ --------------------- 95.1/203.0 MB 32.8 MB/s eta 0:00:04\n",
      "   ------------------- -------------------- 96.6/203.0 MB 32.8 MB/s eta 0:00:04\n",
      "   ------------------- -------------------- 98.2/203.0 MB 32.8 MB/s eta 0:00:04\n",
      "   ------------------- -------------------- 99.7/203.0 MB 32.7 MB/s eta 0:00:04\n",
      "   ------------------- ------------------- 101.2/203.0 MB 34.4 MB/s eta 0:00:03\n",
      "   ------------------- ------------------- 102.7/203.0 MB 32.7 MB/s eta 0:00:04\n",
      "   -------------------- ------------------ 104.2/203.0 MB 34.4 MB/s eta 0:00:03\n",
      "   -------------------- ------------------ 105.7/203.0 MB 32.8 MB/s eta 0:00:03\n",
      "   -------------------- ------------------ 107.2/203.0 MB 32.8 MB/s eta 0:00:03\n",
      "   -------------------- ------------------ 108.7/203.0 MB 32.8 MB/s eta 0:00:03\n",
      "   --------------------- ----------------- 110.2/203.0 MB 32.8 MB/s eta 0:00:03\n",
      "   --------------------- ----------------- 111.7/203.0 MB 32.7 MB/s eta 0:00:03\n",
      "   --------------------- ----------------- 113.2/203.0 MB 32.7 MB/s eta 0:00:03\n",
      "   ---------------------- ---------------- 114.7/203.0 MB 32.7 MB/s eta 0:00:03\n",
      "   ---------------------- ---------------- 115.7/203.0 MB 32.7 MB/s eta 0:00:03\n",
      "   ---------------------- ---------------- 117.7/203.0 MB 32.8 MB/s eta 0:00:03\n",
      "   ---------------------- ---------------- 118.7/203.0 MB 32.7 MB/s eta 0:00:03\n",
      "   ----------------------- --------------- 120.7/203.0 MB 32.8 MB/s eta 0:00:03\n",
      "   ----------------------- --------------- 122.2/203.0 MB 32.8 MB/s eta 0:00:03\n",
      "   ----------------------- --------------- 123.7/203.0 MB 32.7 MB/s eta 0:00:03\n",
      "   ------------------------ -------------- 125.2/203.0 MB 32.7 MB/s eta 0:00:03\n",
      "   ------------------------ -------------- 126.7/203.0 MB 32.7 MB/s eta 0:00:03\n",
      "   ------------------------ -------------- 128.2/203.0 MB 32.7 MB/s eta 0:00:03\n",
      "   ------------------------ -------------- 129.7/203.0 MB 32.8 MB/s eta 0:00:03\n",
      "   ------------------------- ------------- 131.2/203.0 MB 32.8 MB/s eta 0:00:03\n",
      "   ------------------------- ------------- 132.8/203.0 MB 32.8 MB/s eta 0:00:03\n",
      "   ------------------------- ------------- 134.2/203.0 MB 32.8 MB/s eta 0:00:03\n",
      "   -------------------------- ------------ 135.7/203.0 MB 32.7 MB/s eta 0:00:03\n",
      "   -------------------------- ------------ 137.2/203.0 MB 32.7 MB/s eta 0:00:03\n",
      "   -------------------------- ------------ 138.8/203.0 MB 32.7 MB/s eta 0:00:02\n",
      "   -------------------------- ------------ 139.8/203.0 MB 32.7 MB/s eta 0:00:02\n",
      "   --------------------------- ----------- 141.8/203.0 MB 32.8 MB/s eta 0:00:02\n",
      "   --------------------------- ----------- 143.4/203.0 MB 32.8 MB/s eta 0:00:02\n",
      "   --------------------------- ----------- 144.0/203.0 MB 32.7 MB/s eta 0:00:02\n",
      "   --------------------------- ----------- 144.0/203.0 MB 32.7 MB/s eta 0:00:02\n",
      "   --------------------------- ----------- 144.0/203.0 MB 32.7 MB/s eta 0:00:02\n",
      "   --------------------------- ----------- 144.0/203.0 MB 32.7 MB/s eta 0:00:02\n",
      "   --------------------------- ----------- 144.0/203.0 MB 32.7 MB/s eta 0:00:02\n",
      "   --------------------------- ----------- 144.0/203.0 MB 32.7 MB/s eta 0:00:02\n",
      "   --------------------------- ----------- 144.0/203.0 MB 32.7 MB/s eta 0:00:02\n",
      "   --------------------------- ----------- 144.0/203.0 MB 32.7 MB/s eta 0:00:02\n",
      "   --------------------------- ----------- 144.0/203.0 MB 32.7 MB/s eta 0:00:02\n",
      "   --------------------------- ----------- 144.0/203.0 MB 32.7 MB/s eta 0:00:02\n",
      "   --------------------------- ----------- 144.0/203.0 MB 32.7 MB/s eta 0:00:02\n",
      "   --------------------------- ----------- 144.0/203.0 MB 32.7 MB/s eta 0:00:02\n",
      "   --------------------------- ----------- 144.0/203.0 MB 32.7 MB/s eta 0:00:02\n",
      "   --------------------------- ----------- 144.0/203.0 MB 32.7 MB/s eta 0:00:02\n",
      "   --------------------------- ----------- 144.0/203.0 MB 32.7 MB/s eta 0:00:02\n",
      "   --------------------------- ----------- 144.0/203.0 MB 32.7 MB/s eta 0:00:02\n",
      "   --------------------------- ----------- 144.0/203.0 MB 32.7 MB/s eta 0:00:02\n",
      "   --------------------------- ----------- 144.0/203.0 MB 32.7 MB/s eta 0:00:02\n",
      "   --------------------------- ----------- 144.0/203.0 MB 32.7 MB/s eta 0:00:02\n",
      "   --------------------------- ----------- 144.0/203.0 MB 32.7 MB/s eta 0:00:02\n",
      "   ---------------------------- ----------- 145.9/203.0 MB 8.4 MB/s eta 0:00:07\n",
      "   ----------------------------- ---------- 149.8/203.0 MB 8.8 MB/s eta 0:00:07\n",
      "   ----------------------------- ---------- 152.2/203.0 MB 9.1 MB/s eta 0:00:06\n",
      "   ------------------------------ -------- 157.2/203.0 MB 81.8 MB/s eta 0:00:01\n",
      "   ------------------------------ -------- 157.2/203.0 MB 81.8 MB/s eta 0:00:01\n",
      "   ------------------------------ -------- 160.6/203.0 MB 59.5 MB/s eta 0:00:01\n",
      "   ------------------------------- ------- 162.0/203.0 MB 50.4 MB/s eta 0:00:01\n",
      "   ------------------------------- ------- 163.6/203.0 MB 46.7 MB/s eta 0:00:01\n",
      "   ------------------------------- ------- 165.2/203.0 MB 40.9 MB/s eta 0:00:01\n",
      "   -------------------------------- ------ 166.6/203.0 MB 34.4 MB/s eta 0:00:02\n",
      "   -------------------------------- ------ 168.2/203.0 MB 38.6 MB/s eta 0:00:01\n",
      "   -------------------------------- ------ 169.7/203.0 MB 34.4 MB/s eta 0:00:01\n",
      "   -------------------------------- ------ 171.2/203.0 MB 32.8 MB/s eta 0:00:01\n",
      "   --------------------------------- ----- 172.2/203.0 MB 32.8 MB/s eta 0:00:01\n",
      "   --------------------------------- ----- 173.7/203.0 MB 31.2 MB/s eta 0:00:01\n",
      "   --------------------------------- ----- 175.2/203.0 MB 32.8 MB/s eta 0:00:01\n",
      "   --------------------------------- ----- 176.7/203.0 MB 32.8 MB/s eta 0:00:01\n",
      "   ---------------------------------- ---- 178.6/203.0 MB 32.7 MB/s eta 0:00:01\n",
      "   ---------------------------------- ---- 180.2/203.0 MB 31.2 MB/s eta 0:00:01\n",
      "   ---------------------------------- ---- 181.8/203.0 MB 32.8 MB/s eta 0:00:01\n",
      "   ----------------------------------- --- 183.0/203.0 MB 32.7 MB/s eta 0:00:01\n",
      "   ----------------------------------- --- 184.7/203.0 MB 31.2 MB/s eta 0:00:01\n",
      "   ----------------------------------- --- 186.2/203.0 MB 31.2 MB/s eta 0:00:01\n",
      "   ------------------------------------ -- 187.8/203.0 MB 32.7 MB/s eta 0:00:01\n",
      "   ------------------------------------ -- 189.2/203.0 MB 31.2 MB/s eta 0:00:01\n",
      "   ------------------------------------ -- 190.7/203.0 MB 32.7 MB/s eta 0:00:01\n",
      "   ------------------------------------ -- 192.2/203.0 MB 31.2 MB/s eta 0:00:01\n",
      "   ------------------------------------- - 193.8/203.0 MB 32.8 MB/s eta 0:00:01\n",
      "   ------------------------------------- - 195.2/203.0 MB 34.4 MB/s eta 0:00:01\n",
      "   ------------------------------------- - 196.8/203.0 MB 32.8 MB/s eta 0:00:01\n",
      "   --------------------------------------  198.3/203.0 MB 31.2 MB/s eta 0:00:01\n",
      "   --------------------------------------  199.8/203.0 MB 31.2 MB/s eta 0:00:01\n",
      "   --------------------------------------  201.4/203.0 MB 31.2 MB/s eta 0:00:01\n",
      "   --------------------------------------  202.9/203.0 MB 31.1 MB/s eta 0:00:01\n",
      "   --------------------------------------  203.0/203.0 MB 32.7 MB/s eta 0:00:01\n",
      "   --------------------------------------  203.0/203.0 MB 32.7 MB/s eta 0:00:01\n",
      "   --------------------------------------  203.0/203.0 MB 32.7 MB/s eta 0:00:01\n",
      "   --------------------------------------  203.0/203.0 MB 32.7 MB/s eta 0:00:01\n",
      "   --------------------------------------  203.0/203.0 MB 32.7 MB/s eta 0:00:01\n",
      "   --------------------------------------  203.0/203.0 MB 32.7 MB/s eta 0:00:01\n",
      "   --------------------------------------  203.0/203.0 MB 32.7 MB/s eta 0:00:01\n",
      "   --------------------------------------  203.0/203.0 MB 32.7 MB/s eta 0:00:01\n",
      "   --------------------------------------  203.0/203.0 MB 32.7 MB/s eta 0:00:01\n",
      "   --------------------------------------  203.0/203.0 MB 32.7 MB/s eta 0:00:01\n",
      "   --------------------------------------  203.0/203.0 MB 32.7 MB/s eta 0:00:01\n",
      "   --------------------------------------  203.0/203.0 MB 32.7 MB/s eta 0:00:01\n",
      "   --------------------------------------  203.0/203.0 MB 32.7 MB/s eta 0:00:01\n",
      "   --------------------------------------  203.0/203.0 MB 32.7 MB/s eta 0:00:01\n",
      "   --------------------------------------  203.0/203.0 MB 32.7 MB/s eta 0:00:01\n",
      "   --------------------------------------  203.0/203.0 MB 32.7 MB/s eta 0:00:01\n",
      "   --------------------------------------  203.0/203.0 MB 32.7 MB/s eta 0:00:01\n",
      "   --------------------------------------  203.0/203.0 MB 32.7 MB/s eta 0:00:01\n",
      "   --------------------------------------  203.0/203.0 MB 32.7 MB/s eta 0:00:01\n",
      "   --------------------------------------  203.0/203.0 MB 32.7 MB/s eta 0:00:01\n",
      "   --------------------------------------  203.0/203.0 MB 32.7 MB/s eta 0:00:01\n",
      "   --------------------------------------  203.0/203.0 MB 32.7 MB/s eta 0:00:01\n",
      "   --------------------------------------  203.0/203.0 MB 32.7 MB/s eta 0:00:01\n",
      "   --------------------------------------  203.0/203.0 MB 32.7 MB/s eta 0:00:01\n",
      "   --------------------------------------  203.0/203.0 MB 32.7 MB/s eta 0:00:01\n",
      "   --------------------------------------  203.0/203.0 MB 32.7 MB/s eta 0:00:01\n",
      "   --------------------------------------  203.0/203.0 MB 32.7 MB/s eta 0:00:01\n",
      "   --------------------------------------  203.0/203.0 MB 32.7 MB/s eta 0:00:01\n",
      "   ---------------------------------------- 203.0/203.0 MB 3.9 MB/s eta 0:00:00\n",
      "Downloading sympy-1.13.1-py3-none-any.whl (6.2 MB)\n",
      "   ---------------------------------------- 0.0/6.2 MB ? eta -:--:--\n",
      "   -------- ------------------------------- 1.4/6.2 MB 29.2 MB/s eta 0:00:01\n",
      "   ------------------ --------------------- 2.9/6.2 MB 30.6 MB/s eta 0:00:01\n",
      "   ---------------------------- ----------- 4.4/6.2 MB 30.9 MB/s eta 0:00:01\n",
      "   ------------------------------------- -- 5.9/6.2 MB 31.3 MB/s eta 0:00:01\n",
      "   ---------------------------------------  6.2/6.2 MB 30.4 MB/s eta 0:00:01\n",
      "   ---------------------------------------- 6.2/6.2 MB 26.4 MB/s eta 0:00:00\n",
      "Downloading torchvision-0.20.1-cp312-cp312-win_amd64.whl (1.6 MB)\n",
      "   ---------------------------------------- 0.0/1.6 MB ? eta -:--:--\n",
      "   ---------------------------------------  1.6/1.6 MB 33.6 MB/s eta 0:00:01\n",
      "   ---------------------------------------- 1.6/1.6 MB 25.0 MB/s eta 0:00:00\n",
      "Downloading filelock-3.17.0-py3-none-any.whl (16 kB)\n",
      "Downloading fsspec-2024.12.0-py3-none-any.whl (183 kB)\n",
      "   ---------------------------------------- 0.0/183.9 kB ? eta -:--:--\n",
      "   --------------------------------------- 183.9/183.9 kB 10.9 MB/s eta 0:00:00\n",
      "Downloading mpmath-1.3.0-py3-none-any.whl (536 kB)\n",
      "   ---------------------------------------- 0.0/536.2 kB ? eta -:--:--\n",
      "   --------------------------------------- 536.2/536.2 kB 17.0 MB/s eta 0:00:00\n",
      "Installing collected packages: mpmath, sympy, fsspec, filelock, torch, torchvision\n",
      "Successfully installed filelock-3.17.0 fsspec-2024.12.0 mpmath-1.3.0 sympy-1.13.1 torch-2.5.1 torchvision-0.20.1\n"
     ]
    },
    {
     "name": "stderr",
     "output_type": "stream",
     "text": [
      "\n",
      "[notice] A new release of pip is available: 24.0 -> 24.3.1\n",
      "[notice] To update, run: C:\\Users\\Kai\\AppData\\Local\\Programs\\Python\\Python312\\python.exe -m pip install --upgrade pip\n"
     ]
    }
   ],
   "source": [
    "!pip install torch torchvision "
   ],
   "metadata": {
    "collapsed": false,
    "ExecuteTime": {
     "end_time": "2025-01-29T08:16:07.617201200Z",
     "start_time": "2025-01-29T08:14:16.629509500Z"
    }
   },
   "id": "98087fd50e30ef2c"
  }
 ],
 "metadata": {
  "kernelspec": {
   "display_name": "Python 3",
   "language": "python",
   "name": "python3"
  },
  "language_info": {
   "codemirror_mode": {
    "name": "ipython",
    "version": 2
   },
   "file_extension": ".py",
   "mimetype": "text/x-python",
   "name": "python",
   "nbconvert_exporter": "python",
   "pygments_lexer": "ipython2",
   "version": "2.7.6"
  }
 },
 "nbformat": 4,
 "nbformat_minor": 5
}
